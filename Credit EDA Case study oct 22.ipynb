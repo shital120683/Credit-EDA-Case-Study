{
 "cells": [
  {
   "cell_type": "markdown",
   "id": "c8826c6e",
   "metadata": {},
   "source": [
    "# DATA CLEANING OF APPLICATION DATA "
   ]
  },
  {
   "cell_type": "code",
   "execution_count": 1,
   "id": "2b2c9aba",
   "metadata": {},
   "outputs": [],
   "source": [
    "import warnings \n",
    "warnings.filterwarnings(\"ignore\")"
   ]
  },
  {
   "cell_type": "code",
   "execution_count": 2,
   "id": "066f4531",
   "metadata": {},
   "outputs": [],
   "source": [
    "import pandas as pd, numpy as np\n",
    "import matplotlib.pyplot as plt, seaborn as sns\n",
    "%matplotlib inline"
   ]
  },
  {
   "cell_type": "code",
   "execution_count": 3,
   "id": "de769c15",
   "metadata": {},
   "outputs": [],
   "source": [
    "inp0=pd.read_csv(\"application_data.csv\")"
   ]
  },
  {
   "cell_type": "code",
   "execution_count": 4,
   "id": "032c8ab1",
   "metadata": {},
   "outputs": [
    {
     "data": {
      "text/html": [
       "<div>\n",
       "<style scoped>\n",
       "    .dataframe tbody tr th:only-of-type {\n",
       "        vertical-align: middle;\n",
       "    }\n",
       "\n",
       "    .dataframe tbody tr th {\n",
       "        vertical-align: top;\n",
       "    }\n",
       "\n",
       "    .dataframe thead th {\n",
       "        text-align: right;\n",
       "    }\n",
       "</style>\n",
       "<table border=\"1\" class=\"dataframe\">\n",
       "  <thead>\n",
       "    <tr style=\"text-align: right;\">\n",
       "      <th></th>\n",
       "      <th>SK_ID_CURR</th>\n",
       "      <th>TARGET</th>\n",
       "      <th>NAME_CONTRACT_TYPE</th>\n",
       "      <th>CODE_GENDER</th>\n",
       "      <th>FLAG_OWN_CAR</th>\n",
       "      <th>FLAG_OWN_REALTY</th>\n",
       "      <th>CNT_CHILDREN</th>\n",
       "      <th>AMT_INCOME_TOTAL</th>\n",
       "      <th>AMT_CREDIT</th>\n",
       "      <th>AMT_ANNUITY</th>\n",
       "      <th>...</th>\n",
       "      <th>FLAG_DOCUMENT_18</th>\n",
       "      <th>FLAG_DOCUMENT_19</th>\n",
       "      <th>FLAG_DOCUMENT_20</th>\n",
       "      <th>FLAG_DOCUMENT_21</th>\n",
       "      <th>AMT_REQ_CREDIT_BUREAU_HOUR</th>\n",
       "      <th>AMT_REQ_CREDIT_BUREAU_DAY</th>\n",
       "      <th>AMT_REQ_CREDIT_BUREAU_WEEK</th>\n",
       "      <th>AMT_REQ_CREDIT_BUREAU_MON</th>\n",
       "      <th>AMT_REQ_CREDIT_BUREAU_QRT</th>\n",
       "      <th>AMT_REQ_CREDIT_BUREAU_YEAR</th>\n",
       "    </tr>\n",
       "  </thead>\n",
       "  <tbody>\n",
       "    <tr>\n",
       "      <th>0</th>\n",
       "      <td>100002</td>\n",
       "      <td>1</td>\n",
       "      <td>Cash loans</td>\n",
       "      <td>M</td>\n",
       "      <td>N</td>\n",
       "      <td>Y</td>\n",
       "      <td>0</td>\n",
       "      <td>202500.0</td>\n",
       "      <td>406597.5</td>\n",
       "      <td>24700.5</td>\n",
       "      <td>...</td>\n",
       "      <td>0</td>\n",
       "      <td>0</td>\n",
       "      <td>0</td>\n",
       "      <td>0</td>\n",
       "      <td>0.0</td>\n",
       "      <td>0.0</td>\n",
       "      <td>0.0</td>\n",
       "      <td>0.0</td>\n",
       "      <td>0.0</td>\n",
       "      <td>1.0</td>\n",
       "    </tr>\n",
       "    <tr>\n",
       "      <th>1</th>\n",
       "      <td>100003</td>\n",
       "      <td>0</td>\n",
       "      <td>Cash loans</td>\n",
       "      <td>F</td>\n",
       "      <td>N</td>\n",
       "      <td>N</td>\n",
       "      <td>0</td>\n",
       "      <td>270000.0</td>\n",
       "      <td>1293502.5</td>\n",
       "      <td>35698.5</td>\n",
       "      <td>...</td>\n",
       "      <td>0</td>\n",
       "      <td>0</td>\n",
       "      <td>0</td>\n",
       "      <td>0</td>\n",
       "      <td>0.0</td>\n",
       "      <td>0.0</td>\n",
       "      <td>0.0</td>\n",
       "      <td>0.0</td>\n",
       "      <td>0.0</td>\n",
       "      <td>0.0</td>\n",
       "    </tr>\n",
       "    <tr>\n",
       "      <th>2</th>\n",
       "      <td>100004</td>\n",
       "      <td>0</td>\n",
       "      <td>Revolving loans</td>\n",
       "      <td>M</td>\n",
       "      <td>Y</td>\n",
       "      <td>Y</td>\n",
       "      <td>0</td>\n",
       "      <td>67500.0</td>\n",
       "      <td>135000.0</td>\n",
       "      <td>6750.0</td>\n",
       "      <td>...</td>\n",
       "      <td>0</td>\n",
       "      <td>0</td>\n",
       "      <td>0</td>\n",
       "      <td>0</td>\n",
       "      <td>0.0</td>\n",
       "      <td>0.0</td>\n",
       "      <td>0.0</td>\n",
       "      <td>0.0</td>\n",
       "      <td>0.0</td>\n",
       "      <td>0.0</td>\n",
       "    </tr>\n",
       "    <tr>\n",
       "      <th>3</th>\n",
       "      <td>100006</td>\n",
       "      <td>0</td>\n",
       "      <td>Cash loans</td>\n",
       "      <td>F</td>\n",
       "      <td>N</td>\n",
       "      <td>Y</td>\n",
       "      <td>0</td>\n",
       "      <td>135000.0</td>\n",
       "      <td>312682.5</td>\n",
       "      <td>29686.5</td>\n",
       "      <td>...</td>\n",
       "      <td>0</td>\n",
       "      <td>0</td>\n",
       "      <td>0</td>\n",
       "      <td>0</td>\n",
       "      <td>NaN</td>\n",
       "      <td>NaN</td>\n",
       "      <td>NaN</td>\n",
       "      <td>NaN</td>\n",
       "      <td>NaN</td>\n",
       "      <td>NaN</td>\n",
       "    </tr>\n",
       "    <tr>\n",
       "      <th>4</th>\n",
       "      <td>100007</td>\n",
       "      <td>0</td>\n",
       "      <td>Cash loans</td>\n",
       "      <td>M</td>\n",
       "      <td>N</td>\n",
       "      <td>Y</td>\n",
       "      <td>0</td>\n",
       "      <td>121500.0</td>\n",
       "      <td>513000.0</td>\n",
       "      <td>21865.5</td>\n",
       "      <td>...</td>\n",
       "      <td>0</td>\n",
       "      <td>0</td>\n",
       "      <td>0</td>\n",
       "      <td>0</td>\n",
       "      <td>0.0</td>\n",
       "      <td>0.0</td>\n",
       "      <td>0.0</td>\n",
       "      <td>0.0</td>\n",
       "      <td>0.0</td>\n",
       "      <td>0.0</td>\n",
       "    </tr>\n",
       "  </tbody>\n",
       "</table>\n",
       "<p>5 rows × 122 columns</p>\n",
       "</div>"
      ],
      "text/plain": [
       "   SK_ID_CURR  TARGET NAME_CONTRACT_TYPE CODE_GENDER FLAG_OWN_CAR  \\\n",
       "0      100002       1         Cash loans           M            N   \n",
       "1      100003       0         Cash loans           F            N   \n",
       "2      100004       0    Revolving loans           M            Y   \n",
       "3      100006       0         Cash loans           F            N   \n",
       "4      100007       0         Cash loans           M            N   \n",
       "\n",
       "  FLAG_OWN_REALTY  CNT_CHILDREN  AMT_INCOME_TOTAL  AMT_CREDIT  AMT_ANNUITY  \\\n",
       "0               Y             0          202500.0    406597.5      24700.5   \n",
       "1               N             0          270000.0   1293502.5      35698.5   \n",
       "2               Y             0           67500.0    135000.0       6750.0   \n",
       "3               Y             0          135000.0    312682.5      29686.5   \n",
       "4               Y             0          121500.0    513000.0      21865.5   \n",
       "\n",
       "   ...  FLAG_DOCUMENT_18 FLAG_DOCUMENT_19 FLAG_DOCUMENT_20 FLAG_DOCUMENT_21  \\\n",
       "0  ...                 0                0                0                0   \n",
       "1  ...                 0                0                0                0   \n",
       "2  ...                 0                0                0                0   \n",
       "3  ...                 0                0                0                0   \n",
       "4  ...                 0                0                0                0   \n",
       "\n",
       "  AMT_REQ_CREDIT_BUREAU_HOUR AMT_REQ_CREDIT_BUREAU_DAY  \\\n",
       "0                        0.0                       0.0   \n",
       "1                        0.0                       0.0   \n",
       "2                        0.0                       0.0   \n",
       "3                        NaN                       NaN   \n",
       "4                        0.0                       0.0   \n",
       "\n",
       "   AMT_REQ_CREDIT_BUREAU_WEEK  AMT_REQ_CREDIT_BUREAU_MON  \\\n",
       "0                         0.0                        0.0   \n",
       "1                         0.0                        0.0   \n",
       "2                         0.0                        0.0   \n",
       "3                         NaN                        NaN   \n",
       "4                         0.0                        0.0   \n",
       "\n",
       "   AMT_REQ_CREDIT_BUREAU_QRT  AMT_REQ_CREDIT_BUREAU_YEAR  \n",
       "0                        0.0                         1.0  \n",
       "1                        0.0                         0.0  \n",
       "2                        0.0                         0.0  \n",
       "3                        NaN                         NaN  \n",
       "4                        0.0                         0.0  \n",
       "\n",
       "[5 rows x 122 columns]"
      ]
     },
     "execution_count": 4,
     "metadata": {},
     "output_type": "execute_result"
    }
   ],
   "source": [
    "inp0.head()"
   ]
  },
  {
   "cell_type": "code",
   "execution_count": 5,
   "id": "f9145e0b",
   "metadata": {},
   "outputs": [
    {
     "name": "stdout",
     "output_type": "stream",
     "text": [
      "<class 'pandas.core.frame.DataFrame'>\n",
      "RangeIndex: 307511 entries, 0 to 307510\n",
      "Data columns (total 122 columns):\n",
      " #    Column                        Non-Null Count   Dtype  \n",
      "---   ------                        --------------   -----  \n",
      " 0    SK_ID_CURR                    307511 non-null  int64  \n",
      " 1    TARGET                        307511 non-null  int64  \n",
      " 2    NAME_CONTRACT_TYPE            307511 non-null  object \n",
      " 3    CODE_GENDER                   307511 non-null  object \n",
      " 4    FLAG_OWN_CAR                  307511 non-null  object \n",
      " 5    FLAG_OWN_REALTY               307511 non-null  object \n",
      " 6    CNT_CHILDREN                  307511 non-null  int64  \n",
      " 7    AMT_INCOME_TOTAL              307511 non-null  float64\n",
      " 8    AMT_CREDIT                    307511 non-null  float64\n",
      " 9    AMT_ANNUITY                   307499 non-null  float64\n",
      " 10   AMT_GOODS_PRICE               307233 non-null  float64\n",
      " 11   NAME_TYPE_SUITE               306219 non-null  object \n",
      " 12   NAME_INCOME_TYPE              307511 non-null  object \n",
      " 13   NAME_EDUCATION_TYPE           307511 non-null  object \n",
      " 14   NAME_FAMILY_STATUS            307511 non-null  object \n",
      " 15   NAME_HOUSING_TYPE             307511 non-null  object \n",
      " 16   REGION_POPULATION_RELATIVE    307511 non-null  float64\n",
      " 17   DAYS_BIRTH                    307511 non-null  int64  \n",
      " 18   DAYS_EMPLOYED                 307511 non-null  int64  \n",
      " 19   DAYS_REGISTRATION             307511 non-null  float64\n",
      " 20   DAYS_ID_PUBLISH               307511 non-null  int64  \n",
      " 21   OWN_CAR_AGE                   104582 non-null  float64\n",
      " 22   FLAG_MOBIL                    307511 non-null  int64  \n",
      " 23   FLAG_EMP_PHONE                307511 non-null  int64  \n",
      " 24   FLAG_WORK_PHONE               307511 non-null  int64  \n",
      " 25   FLAG_CONT_MOBILE              307511 non-null  int64  \n",
      " 26   FLAG_PHONE                    307511 non-null  int64  \n",
      " 27   FLAG_EMAIL                    307511 non-null  int64  \n",
      " 28   OCCUPATION_TYPE               211120 non-null  object \n",
      " 29   CNT_FAM_MEMBERS               307509 non-null  float64\n",
      " 30   REGION_RATING_CLIENT          307511 non-null  int64  \n",
      " 31   REGION_RATING_CLIENT_W_CITY   307511 non-null  int64  \n",
      " 32   WEEKDAY_APPR_PROCESS_START    307511 non-null  object \n",
      " 33   HOUR_APPR_PROCESS_START       307511 non-null  int64  \n",
      " 34   REG_REGION_NOT_LIVE_REGION    307511 non-null  int64  \n",
      " 35   REG_REGION_NOT_WORK_REGION    307511 non-null  int64  \n",
      " 36   LIVE_REGION_NOT_WORK_REGION   307511 non-null  int64  \n",
      " 37   REG_CITY_NOT_LIVE_CITY        307511 non-null  int64  \n",
      " 38   REG_CITY_NOT_WORK_CITY        307511 non-null  int64  \n",
      " 39   LIVE_CITY_NOT_WORK_CITY       307511 non-null  int64  \n",
      " 40   ORGANIZATION_TYPE             307511 non-null  object \n",
      " 41   EXT_SOURCE_1                  134133 non-null  float64\n",
      " 42   EXT_SOURCE_2                  306851 non-null  float64\n",
      " 43   EXT_SOURCE_3                  246546 non-null  float64\n",
      " 44   APARTMENTS_AVG                151450 non-null  float64\n",
      " 45   BASEMENTAREA_AVG              127568 non-null  float64\n",
      " 46   YEARS_BEGINEXPLUATATION_AVG   157504 non-null  float64\n",
      " 47   YEARS_BUILD_AVG               103023 non-null  float64\n",
      " 48   COMMONAREA_AVG                92646 non-null   float64\n",
      " 49   ELEVATORS_AVG                 143620 non-null  float64\n",
      " 50   ENTRANCES_AVG                 152683 non-null  float64\n",
      " 51   FLOORSMAX_AVG                 154491 non-null  float64\n",
      " 52   FLOORSMIN_AVG                 98869 non-null   float64\n",
      " 53   LANDAREA_AVG                  124921 non-null  float64\n",
      " 54   LIVINGAPARTMENTS_AVG          97312 non-null   float64\n",
      " 55   LIVINGAREA_AVG                153161 non-null  float64\n",
      " 56   NONLIVINGAPARTMENTS_AVG       93997 non-null   float64\n",
      " 57   NONLIVINGAREA_AVG             137829 non-null  float64\n",
      " 58   APARTMENTS_MODE               151450 non-null  float64\n",
      " 59   BASEMENTAREA_MODE             127568 non-null  float64\n",
      " 60   YEARS_BEGINEXPLUATATION_MODE  157504 non-null  float64\n",
      " 61   YEARS_BUILD_MODE              103023 non-null  float64\n",
      " 62   COMMONAREA_MODE               92646 non-null   float64\n",
      " 63   ELEVATORS_MODE                143620 non-null  float64\n",
      " 64   ENTRANCES_MODE                152683 non-null  float64\n",
      " 65   FLOORSMAX_MODE                154491 non-null  float64\n",
      " 66   FLOORSMIN_MODE                98869 non-null   float64\n",
      " 67   LANDAREA_MODE                 124921 non-null  float64\n",
      " 68   LIVINGAPARTMENTS_MODE         97312 non-null   float64\n",
      " 69   LIVINGAREA_MODE               153161 non-null  float64\n",
      " 70   NONLIVINGAPARTMENTS_MODE      93997 non-null   float64\n",
      " 71   NONLIVINGAREA_MODE            137829 non-null  float64\n",
      " 72   APARTMENTS_MEDI               151450 non-null  float64\n",
      " 73   BASEMENTAREA_MEDI             127568 non-null  float64\n",
      " 74   YEARS_BEGINEXPLUATATION_MEDI  157504 non-null  float64\n",
      " 75   YEARS_BUILD_MEDI              103023 non-null  float64\n",
      " 76   COMMONAREA_MEDI               92646 non-null   float64\n",
      " 77   ELEVATORS_MEDI                143620 non-null  float64\n",
      " 78   ENTRANCES_MEDI                152683 non-null  float64\n",
      " 79   FLOORSMAX_MEDI                154491 non-null  float64\n",
      " 80   FLOORSMIN_MEDI                98869 non-null   float64\n",
      " 81   LANDAREA_MEDI                 124921 non-null  float64\n",
      " 82   LIVINGAPARTMENTS_MEDI         97312 non-null   float64\n",
      " 83   LIVINGAREA_MEDI               153161 non-null  float64\n",
      " 84   NONLIVINGAPARTMENTS_MEDI      93997 non-null   float64\n",
      " 85   NONLIVINGAREA_MEDI            137829 non-null  float64\n",
      " 86   FONDKAPREMONT_MODE            97216 non-null   object \n",
      " 87   HOUSETYPE_MODE                153214 non-null  object \n",
      " 88   TOTALAREA_MODE                159080 non-null  float64\n",
      " 89   WALLSMATERIAL_MODE            151170 non-null  object \n",
      " 90   EMERGENCYSTATE_MODE           161756 non-null  object \n",
      " 91   OBS_30_CNT_SOCIAL_CIRCLE      306490 non-null  float64\n",
      " 92   DEF_30_CNT_SOCIAL_CIRCLE      306490 non-null  float64\n",
      " 93   OBS_60_CNT_SOCIAL_CIRCLE      306490 non-null  float64\n",
      " 94   DEF_60_CNT_SOCIAL_CIRCLE      306490 non-null  float64\n",
      " 95   DAYS_LAST_PHONE_CHANGE        307510 non-null  float64\n",
      " 96   FLAG_DOCUMENT_2               307511 non-null  int64  \n",
      " 97   FLAG_DOCUMENT_3               307511 non-null  int64  \n",
      " 98   FLAG_DOCUMENT_4               307511 non-null  int64  \n",
      " 99   FLAG_DOCUMENT_5               307511 non-null  int64  \n",
      " 100  FLAG_DOCUMENT_6               307511 non-null  int64  \n",
      " 101  FLAG_DOCUMENT_7               307511 non-null  int64  \n",
      " 102  FLAG_DOCUMENT_8               307511 non-null  int64  \n",
      " 103  FLAG_DOCUMENT_9               307511 non-null  int64  \n",
      " 104  FLAG_DOCUMENT_10              307511 non-null  int64  \n",
      " 105  FLAG_DOCUMENT_11              307511 non-null  int64  \n",
      " 106  FLAG_DOCUMENT_12              307511 non-null  int64  \n",
      " 107  FLAG_DOCUMENT_13              307511 non-null  int64  \n",
      " 108  FLAG_DOCUMENT_14              307511 non-null  int64  \n",
      " 109  FLAG_DOCUMENT_15              307511 non-null  int64  \n",
      " 110  FLAG_DOCUMENT_16              307511 non-null  int64  \n",
      " 111  FLAG_DOCUMENT_17              307511 non-null  int64  \n",
      " 112  FLAG_DOCUMENT_18              307511 non-null  int64  \n",
      " 113  FLAG_DOCUMENT_19              307511 non-null  int64  \n",
      " 114  FLAG_DOCUMENT_20              307511 non-null  int64  \n",
      " 115  FLAG_DOCUMENT_21              307511 non-null  int64  \n",
      " 116  AMT_REQ_CREDIT_BUREAU_HOUR    265992 non-null  float64\n",
      " 117  AMT_REQ_CREDIT_BUREAU_DAY     265992 non-null  float64\n",
      " 118  AMT_REQ_CREDIT_BUREAU_WEEK    265992 non-null  float64\n",
      " 119  AMT_REQ_CREDIT_BUREAU_MON     265992 non-null  float64\n",
      " 120  AMT_REQ_CREDIT_BUREAU_QRT     265992 non-null  float64\n",
      " 121  AMT_REQ_CREDIT_BUREAU_YEAR    265992 non-null  float64\n",
      "dtypes: float64(65), int64(41), object(16)\n",
      "memory usage: 286.2+ MB\n"
     ]
    }
   ],
   "source": [
    "inp0.info(verbose=True,null_counts=True)"
   ]
  },
  {
   "cell_type": "code",
   "execution_count": 6,
   "id": "cae6ba4f",
   "metadata": {},
   "outputs": [
    {
     "data": {
      "text/plain": [
       "(307511, 122)"
      ]
     },
     "execution_count": 6,
     "metadata": {},
     "output_type": "execute_result"
    }
   ],
   "source": [
    "inp0.shape"
   ]
  },
  {
   "cell_type": "code",
   "execution_count": 7,
   "id": "a5402e9c",
   "metadata": {},
   "outputs": [
    {
     "data": {
      "text/plain": [
       "SK_ID_CURR                       0.000000\n",
       "TARGET                           0.000000\n",
       "NAME_CONTRACT_TYPE               0.000000\n",
       "CODE_GENDER                      0.000000\n",
       "FLAG_OWN_CAR                     0.000000\n",
       "FLAG_OWN_REALTY                  0.000000\n",
       "CNT_CHILDREN                     0.000000\n",
       "AMT_INCOME_TOTAL                 0.000000\n",
       "AMT_CREDIT                       0.000000\n",
       "AMT_ANNUITY                      0.003902\n",
       "AMT_GOODS_PRICE                  0.090403\n",
       "NAME_TYPE_SUITE                  0.420148\n",
       "NAME_INCOME_TYPE                 0.000000\n",
       "NAME_EDUCATION_TYPE              0.000000\n",
       "NAME_FAMILY_STATUS               0.000000\n",
       "NAME_HOUSING_TYPE                0.000000\n",
       "REGION_POPULATION_RELATIVE       0.000000\n",
       "DAYS_BIRTH                       0.000000\n",
       "DAYS_EMPLOYED                    0.000000\n",
       "DAYS_REGISTRATION                0.000000\n",
       "DAYS_ID_PUBLISH                  0.000000\n",
       "OWN_CAR_AGE                     65.990810\n",
       "FLAG_MOBIL                       0.000000\n",
       "FLAG_EMP_PHONE                   0.000000\n",
       "FLAG_WORK_PHONE                  0.000000\n",
       "FLAG_CONT_MOBILE                 0.000000\n",
       "FLAG_PHONE                       0.000000\n",
       "FLAG_EMAIL                       0.000000\n",
       "OCCUPATION_TYPE                 31.345545\n",
       "CNT_FAM_MEMBERS                  0.000650\n",
       "REGION_RATING_CLIENT             0.000000\n",
       "REGION_RATING_CLIENT_W_CITY      0.000000\n",
       "WEEKDAY_APPR_PROCESS_START       0.000000\n",
       "HOUR_APPR_PROCESS_START          0.000000\n",
       "REG_REGION_NOT_LIVE_REGION       0.000000\n",
       "REG_REGION_NOT_WORK_REGION       0.000000\n",
       "LIVE_REGION_NOT_WORK_REGION      0.000000\n",
       "REG_CITY_NOT_LIVE_CITY           0.000000\n",
       "REG_CITY_NOT_WORK_CITY           0.000000\n",
       "LIVE_CITY_NOT_WORK_CITY          0.000000\n",
       "ORGANIZATION_TYPE                0.000000\n",
       "EXT_SOURCE_1                    56.381073\n",
       "EXT_SOURCE_2                     0.214626\n",
       "EXT_SOURCE_3                    19.825307\n",
       "APARTMENTS_AVG                  50.749729\n",
       "BASEMENTAREA_AVG                58.515956\n",
       "YEARS_BEGINEXPLUATATION_AVG     48.781019\n",
       "YEARS_BUILD_AVG                 66.497784\n",
       "COMMONAREA_AVG                  69.872297\n",
       "ELEVATORS_AVG                   53.295980\n",
       "ENTRANCES_AVG                   50.348768\n",
       "FLOORSMAX_AVG                   49.760822\n",
       "FLOORSMIN_AVG                   67.848630\n",
       "LANDAREA_AVG                    59.376738\n",
       "LIVINGAPARTMENTS_AVG            68.354953\n",
       "LIVINGAREA_AVG                  50.193326\n",
       "NONLIVINGAPARTMENTS_AVG         69.432963\n",
       "NONLIVINGAREA_AVG               55.179164\n",
       "APARTMENTS_MODE                 50.749729\n",
       "BASEMENTAREA_MODE               58.515956\n",
       "YEARS_BEGINEXPLUATATION_MODE    48.781019\n",
       "YEARS_BUILD_MODE                66.497784\n",
       "COMMONAREA_MODE                 69.872297\n",
       "ELEVATORS_MODE                  53.295980\n",
       "ENTRANCES_MODE                  50.348768\n",
       "FLOORSMAX_MODE                  49.760822\n",
       "FLOORSMIN_MODE                  67.848630\n",
       "LANDAREA_MODE                   59.376738\n",
       "LIVINGAPARTMENTS_MODE           68.354953\n",
       "LIVINGAREA_MODE                 50.193326\n",
       "NONLIVINGAPARTMENTS_MODE        69.432963\n",
       "NONLIVINGAREA_MODE              55.179164\n",
       "APARTMENTS_MEDI                 50.749729\n",
       "BASEMENTAREA_MEDI               58.515956\n",
       "YEARS_BEGINEXPLUATATION_MEDI    48.781019\n",
       "YEARS_BUILD_MEDI                66.497784\n",
       "COMMONAREA_MEDI                 69.872297\n",
       "ELEVATORS_MEDI                  53.295980\n",
       "ENTRANCES_MEDI                  50.348768\n",
       "FLOORSMAX_MEDI                  49.760822\n",
       "FLOORSMIN_MEDI                  67.848630\n",
       "LANDAREA_MEDI                   59.376738\n",
       "LIVINGAPARTMENTS_MEDI           68.354953\n",
       "LIVINGAREA_MEDI                 50.193326\n",
       "NONLIVINGAPARTMENTS_MEDI        69.432963\n",
       "NONLIVINGAREA_MEDI              55.179164\n",
       "FONDKAPREMONT_MODE              68.386172\n",
       "HOUSETYPE_MODE                  50.176091\n",
       "TOTALAREA_MODE                  48.268517\n",
       "WALLSMATERIAL_MODE              50.840783\n",
       "EMERGENCYSTATE_MODE             47.398304\n",
       "OBS_30_CNT_SOCIAL_CIRCLE         0.332021\n",
       "DEF_30_CNT_SOCIAL_CIRCLE         0.332021\n",
       "OBS_60_CNT_SOCIAL_CIRCLE         0.332021\n",
       "DEF_60_CNT_SOCIAL_CIRCLE         0.332021\n",
       "DAYS_LAST_PHONE_CHANGE           0.000325\n",
       "FLAG_DOCUMENT_2                  0.000000\n",
       "FLAG_DOCUMENT_3                  0.000000\n",
       "FLAG_DOCUMENT_4                  0.000000\n",
       "FLAG_DOCUMENT_5                  0.000000\n",
       "FLAG_DOCUMENT_6                  0.000000\n",
       "FLAG_DOCUMENT_7                  0.000000\n",
       "FLAG_DOCUMENT_8                  0.000000\n",
       "FLAG_DOCUMENT_9                  0.000000\n",
       "FLAG_DOCUMENT_10                 0.000000\n",
       "FLAG_DOCUMENT_11                 0.000000\n",
       "FLAG_DOCUMENT_12                 0.000000\n",
       "FLAG_DOCUMENT_13                 0.000000\n",
       "FLAG_DOCUMENT_14                 0.000000\n",
       "FLAG_DOCUMENT_15                 0.000000\n",
       "FLAG_DOCUMENT_16                 0.000000\n",
       "FLAG_DOCUMENT_17                 0.000000\n",
       "FLAG_DOCUMENT_18                 0.000000\n",
       "FLAG_DOCUMENT_19                 0.000000\n",
       "FLAG_DOCUMENT_20                 0.000000\n",
       "FLAG_DOCUMENT_21                 0.000000\n",
       "AMT_REQ_CREDIT_BUREAU_HOUR      13.501631\n",
       "AMT_REQ_CREDIT_BUREAU_DAY       13.501631\n",
       "AMT_REQ_CREDIT_BUREAU_WEEK      13.501631\n",
       "AMT_REQ_CREDIT_BUREAU_MON       13.501631\n",
       "AMT_REQ_CREDIT_BUREAU_QRT       13.501631\n",
       "AMT_REQ_CREDIT_BUREAU_YEAR      13.501631\n",
       "dtype: float64"
      ]
     },
     "execution_count": 7,
     "metadata": {},
     "output_type": "execute_result"
    }
   ],
   "source": [
    "pd.set_option(\"display.max_rows\",None, \"display.max_columns\",None) \n",
    "inp0.isnull().sum()/len(inp0)*100"
   ]
  },
  {
   "cell_type": "code",
   "execution_count": 8,
   "id": "30c3d12e",
   "metadata": {},
   "outputs": [],
   "source": [
    "#Delete columns with more than 50% missing dataset\n",
    "del_col=[\"OWN_CAR_AGE\",\"EXT_SOURCE_1\",\"APARTMENTS_AVG\",\"BASEMENTAREA_AVG\",\"YEARS_BUILD_AVG\",\"COMMONAREA_AVG\",\"ELEVATORS_AVG\",\"ENTRANCES_AVG\",\"FLOORSMIN_AVG\",\"LANDAREA_AVG\",\"LIVINGAPARTMENTS_AVG\",\"LIVINGAREA_AVG\",\"NONLIVINGAPARTMENTS_AVG\",\"NONLIVINGAREA_AVG\",\"APARTMENTS_MODE\",\"BASEMENTAREA_MODE\",\"YEARS_BUILD_MODE\",\"COMMONAREA_MODE\",\"ELEVATORS_MODE\",\"ENTRANCES_MODE\",\"FLOORSMIN_MODE\",\"LANDAREA_MODE\",\"LIVINGAPARTMENTS_MODE\",\"LIVINGAREA_MODE\",\"NONLIVINGAPARTMENTS_MODE\",\"NONLIVINGAREA_MODE\",\"APARTMENTS_MEDI\",\"BASEMENTAREA_MEDI\",\"YEARS_BUILD_MEDI\",\"COMMONAREA_MEDI\",\"ELEVATORS_MEDI\",\"ENTRANCES_MEDI\",\"FLOORSMIN_MEDI\",\"LANDAREA_MEDI\",\"LIVINGAPARTMENTS_MEDI\",\"LIVINGAREA_MEDI\",\"NONLIVINGAPARTMENTS_MEDI\",\"NONLIVINGAREA_MEDI\",\"FONDKAPREMONT_MODE\",\"HOUSETYPE_MODE\",\"WALLSMATERIAL_MODE\"]"
   ]
  },
  {
   "cell_type": "code",
   "execution_count": 9,
   "id": "e8c32d05",
   "metadata": {},
   "outputs": [],
   "source": [
    "# Removing columns having null values greater than 50% in the dataset\n",
    "inp0.drop(labels=del_col,axis=1,inplace=True)"
   ]
  },
  {
   "cell_type": "code",
   "execution_count": 10,
   "id": "595ebf47",
   "metadata": {},
   "outputs": [
    {
     "data": {
      "text/plain": [
       "SK_ID_CURR                       0.000000\n",
       "TARGET                           0.000000\n",
       "NAME_CONTRACT_TYPE               0.000000\n",
       "CODE_GENDER                      0.000000\n",
       "FLAG_OWN_CAR                     0.000000\n",
       "FLAG_OWN_REALTY                  0.000000\n",
       "CNT_CHILDREN                     0.000000\n",
       "AMT_INCOME_TOTAL                 0.000000\n",
       "AMT_CREDIT                       0.000000\n",
       "AMT_ANNUITY                      0.003902\n",
       "AMT_GOODS_PRICE                  0.090403\n",
       "NAME_TYPE_SUITE                  0.420148\n",
       "NAME_INCOME_TYPE                 0.000000\n",
       "NAME_EDUCATION_TYPE              0.000000\n",
       "NAME_FAMILY_STATUS               0.000000\n",
       "NAME_HOUSING_TYPE                0.000000\n",
       "REGION_POPULATION_RELATIVE       0.000000\n",
       "DAYS_BIRTH                       0.000000\n",
       "DAYS_EMPLOYED                    0.000000\n",
       "DAYS_REGISTRATION                0.000000\n",
       "DAYS_ID_PUBLISH                  0.000000\n",
       "FLAG_MOBIL                       0.000000\n",
       "FLAG_EMP_PHONE                   0.000000\n",
       "FLAG_WORK_PHONE                  0.000000\n",
       "FLAG_CONT_MOBILE                 0.000000\n",
       "FLAG_PHONE                       0.000000\n",
       "FLAG_EMAIL                       0.000000\n",
       "OCCUPATION_TYPE                 31.345545\n",
       "CNT_FAM_MEMBERS                  0.000650\n",
       "REGION_RATING_CLIENT             0.000000\n",
       "REGION_RATING_CLIENT_W_CITY      0.000000\n",
       "WEEKDAY_APPR_PROCESS_START       0.000000\n",
       "HOUR_APPR_PROCESS_START          0.000000\n",
       "REG_REGION_NOT_LIVE_REGION       0.000000\n",
       "REG_REGION_NOT_WORK_REGION       0.000000\n",
       "LIVE_REGION_NOT_WORK_REGION      0.000000\n",
       "REG_CITY_NOT_LIVE_CITY           0.000000\n",
       "REG_CITY_NOT_WORK_CITY           0.000000\n",
       "LIVE_CITY_NOT_WORK_CITY          0.000000\n",
       "ORGANIZATION_TYPE                0.000000\n",
       "EXT_SOURCE_2                     0.214626\n",
       "EXT_SOURCE_3                    19.825307\n",
       "YEARS_BEGINEXPLUATATION_AVG     48.781019\n",
       "FLOORSMAX_AVG                   49.760822\n",
       "YEARS_BEGINEXPLUATATION_MODE    48.781019\n",
       "FLOORSMAX_MODE                  49.760822\n",
       "YEARS_BEGINEXPLUATATION_MEDI    48.781019\n",
       "FLOORSMAX_MEDI                  49.760822\n",
       "TOTALAREA_MODE                  48.268517\n",
       "EMERGENCYSTATE_MODE             47.398304\n",
       "OBS_30_CNT_SOCIAL_CIRCLE         0.332021\n",
       "DEF_30_CNT_SOCIAL_CIRCLE         0.332021\n",
       "OBS_60_CNT_SOCIAL_CIRCLE         0.332021\n",
       "DEF_60_CNT_SOCIAL_CIRCLE         0.332021\n",
       "DAYS_LAST_PHONE_CHANGE           0.000325\n",
       "FLAG_DOCUMENT_2                  0.000000\n",
       "FLAG_DOCUMENT_3                  0.000000\n",
       "FLAG_DOCUMENT_4                  0.000000\n",
       "FLAG_DOCUMENT_5                  0.000000\n",
       "FLAG_DOCUMENT_6                  0.000000\n",
       "FLAG_DOCUMENT_7                  0.000000\n",
       "FLAG_DOCUMENT_8                  0.000000\n",
       "FLAG_DOCUMENT_9                  0.000000\n",
       "FLAG_DOCUMENT_10                 0.000000\n",
       "FLAG_DOCUMENT_11                 0.000000\n",
       "FLAG_DOCUMENT_12                 0.000000\n",
       "FLAG_DOCUMENT_13                 0.000000\n",
       "FLAG_DOCUMENT_14                 0.000000\n",
       "FLAG_DOCUMENT_15                 0.000000\n",
       "FLAG_DOCUMENT_16                 0.000000\n",
       "FLAG_DOCUMENT_17                 0.000000\n",
       "FLAG_DOCUMENT_18                 0.000000\n",
       "FLAG_DOCUMENT_19                 0.000000\n",
       "FLAG_DOCUMENT_20                 0.000000\n",
       "FLAG_DOCUMENT_21                 0.000000\n",
       "AMT_REQ_CREDIT_BUREAU_HOUR      13.501631\n",
       "AMT_REQ_CREDIT_BUREAU_DAY       13.501631\n",
       "AMT_REQ_CREDIT_BUREAU_WEEK      13.501631\n",
       "AMT_REQ_CREDIT_BUREAU_MON       13.501631\n",
       "AMT_REQ_CREDIT_BUREAU_QRT       13.501631\n",
       "AMT_REQ_CREDIT_BUREAU_YEAR      13.501631\n",
       "dtype: float64"
      ]
     },
     "execution_count": 10,
     "metadata": {},
     "output_type": "execute_result"
    }
   ],
   "source": [
    "# Checking the columns having less null percentage\n",
    "inp0.isnull().sum()/len(inp0)*100"
   ]
  },
  {
   "cell_type": "code",
   "execution_count": 11,
   "id": "42506526",
   "metadata": {},
   "outputs": [
    {
     "data": {
      "text/plain": [
       "(307511, 81)"
      ]
     },
     "execution_count": 11,
     "metadata": {},
     "output_type": "execute_result"
    }
   ],
   "source": [
    "inp0.shape"
   ]
  },
  {
   "cell_type": "markdown",
   "id": "1863aa63",
   "metadata": {},
   "source": [
    "# Handling of missing values:"
   ]
  },
  {
   "cell_type": "code",
   "execution_count": 12,
   "id": "bac40f98",
   "metadata": {},
   "outputs": [
    {
     "data": {
      "image/png": "[encoded data removed]",
      "text/plain": [
       "<Figure size 720x144 with 1 Axes>"
      ]
     },
     "metadata": {
      "needs_background": "light"
     },
     "output_type": "display_data"
    }
   ],
   "source": [
    "# Column:AMT_ANNUITY\n",
    "plt.figure(figsize=(10,2))\n",
    "sns.boxplot(inp0[\"AMT_ANNUITY\"])\n",
    "plt.show()"
   ]
  },
  {
   "cell_type": "code",
   "execution_count": 13,
   "id": "ecadf7cd",
   "metadata": {},
   "outputs": [],
   "source": [
    "inp0[\"AMT_ANNUITY\"]=inp0[\"AMT_ANNUITY\"].fillna(inp0[\"AMT_ANNUITY\"].median())"
   ]
  },
  {
   "cell_type": "code",
   "execution_count": 14,
   "id": "1150a490",
   "metadata": {},
   "outputs": [
    {
     "data": {
      "text/plain": [
       "0"
      ]
     },
     "execution_count": 14,
     "metadata": {},
     "output_type": "execute_result"
    }
   ],
   "source": [
    "inp0[\"AMT_ANNUITY\"].isnull().sum()"
   ]
  },
  {
   "cell_type": "code",
   "execution_count": 15,
   "id": "97da0125",
   "metadata": {},
   "outputs": [
    {
     "data": {
      "image/png": "[encoded data removed]",
      "text/plain": [
       "<Figure size 720x144 with 1 Axes>"
      ]
     },
     "metadata": {
      "needs_background": "light"
     },
     "output_type": "display_data"
    }
   ],
   "source": [
    " # Column:AMT_GOODS_PRICE\n",
    "plt.figure(figsize=(10,2))\n",
    "sns.boxplot(inp0[\"AMT_GOODS_PRICE\"])\n",
    "plt.show()"
   ]
  },
  {
   "cell_type": "code",
   "execution_count": 16,
   "id": "f6489ad8",
   "metadata": {},
   "outputs": [],
   "source": [
    "inp0[\"AMT_GOODS_PRICE\"]=inp0[\"AMT_GOODS_PRICE\"].fillna(inp0[\"AMT_GOODS_PRICE\"].median())"
   ]
  },
  {
   "cell_type": "code",
   "execution_count": 17,
   "id": "43c5ce3f",
   "metadata": {},
   "outputs": [
    {
     "data": {
      "text/plain": [
       "0"
      ]
     },
     "execution_count": 17,
     "metadata": {},
     "output_type": "execute_result"
    }
   ],
   "source": [
    "inp0[\"AMT_GOODS_PRICE\"].isnull().sum()"
   ]
  },
  {
   "cell_type": "markdown",
   "id": "780850ae",
   "metadata": {},
   "source": [
    "#### \"AMT_ANNUITY\" and \"AMT_GOODS_PRICE\" columns having an outlier which is very large it will be inappropriate to fill those missing values with mean, Hence Median is considered and filled those missing blanks with median value"
   ]
  },
  {
   "cell_type": "code",
   "execution_count": 18,
   "id": "8f57ecbf",
   "metadata": {},
   "outputs": [
    {
     "data": {
      "text/plain": [
       "Unaccompanied      248526\n",
       "Family              40149\n",
       "Spouse, partner     11370\n",
       "Children             3267\n",
       "Other_B              1770\n",
       "Other_A               866\n",
       "Group of people       271\n",
       "Name: NAME_TYPE_SUITE, dtype: int64"
      ]
     },
     "execution_count": 18,
     "metadata": {},
     "output_type": "execute_result"
    }
   ],
   "source": [
    "# Column:NAME_TYPE_SUITE \n",
    "inp0[\"NAME_TYPE_SUITE\"].value_counts() "
   ]
  },
  {
   "cell_type": "code",
   "execution_count": 19,
   "id": "181c1605",
   "metadata": {},
   "outputs": [],
   "source": [
    "inp0[\"NAME_TYPE_SUITE\"]=inp0[\"NAME_TYPE_SUITE\"].fillna(\"Unaccompanied\")"
   ]
  },
  {
   "cell_type": "code",
   "execution_count": 20,
   "id": "f4296d8c",
   "metadata": {},
   "outputs": [
    {
     "data": {
      "text/plain": [
       "0"
      ]
     },
     "execution_count": 20,
     "metadata": {},
     "output_type": "execute_result"
    }
   ],
   "source": [
    "inp0[\"NAME_TYPE_SUITE\"].isnull().sum()"
   ]
  },
  {
   "cell_type": "code",
   "execution_count": 21,
   "id": "6602dd64",
   "metadata": {},
   "outputs": [
    {
     "data": {
      "text/plain": [
       "Laborers                 55186\n",
       "Sales staff              32102\n",
       "Core staff               27570\n",
       "Managers                 21371\n",
       "Drivers                  18603\n",
       "High skill tech staff    11380\n",
       "Accountants               9813\n",
       "Medicine staff            8537\n",
       "Security staff            6721\n",
       "Cooking staff             5946\n",
       "Cleaning staff            4653\n",
       "Private service staff     2652\n",
       "Low-skill Laborers        2093\n",
       "Waiters/barmen staff      1348\n",
       "Secretaries               1305\n",
       "Realty agents              751\n",
       "HR staff                   563\n",
       "IT staff                   526\n",
       "Name: OCCUPATION_TYPE, dtype: int64"
      ]
     },
     "execution_count": 21,
     "metadata": {},
     "output_type": "execute_result"
    }
   ],
   "source": [
    "#Column:OCCUPATION_TYPE \n",
    "inp0[\"OCCUPATION_TYPE\"].value_counts()"
   ]
  },
  {
   "cell_type": "code",
   "execution_count": 22,
   "id": "4756cb87",
   "metadata": {},
   "outputs": [],
   "source": [
    "# Impute missing value for OCCUPATION_TYPE column as \"Missing\"\n",
    "inp0[\"OCCUPATION_TYPE\"].fillna(\"Missing\", inplace=True)"
   ]
  },
  {
   "cell_type": "code",
   "execution_count": 23,
   "id": "04d302b7",
   "metadata": {},
   "outputs": [
    {
     "data": {
      "text/plain": [
       "0"
      ]
     },
     "execution_count": 23,
     "metadata": {},
     "output_type": "execute_result"
    }
   ],
   "source": [
    "inp0[\"OCCUPATION_TYPE\"].isnull().sum()"
   ]
  },
  {
   "cell_type": "code",
   "execution_count": 24,
   "id": "a55aeea9",
   "metadata": {},
   "outputs": [
    {
     "data": {
      "text/plain": [
       "count     307511\n",
       "unique         3\n",
       "top            F\n",
       "freq      202448\n",
       "Name: CODE_GENDER, dtype: object"
      ]
     },
     "execution_count": 24,
     "metadata": {},
     "output_type": "execute_result"
    }
   ],
   "source": [
    "#Column:CODE_GENDER\n",
    "inp0[\"CODE_GENDER\"].describe()"
   ]
  },
  {
   "cell_type": "code",
   "execution_count": 25,
   "id": "39c5e3a8",
   "metadata": {},
   "outputs": [
    {
     "data": {
      "text/plain": [
       "F      202448\n",
       "M      105059\n",
       "XNA         4\n",
       "Name: CODE_GENDER, dtype: int64"
      ]
     },
     "execution_count": 25,
     "metadata": {},
     "output_type": "execute_result"
    }
   ],
   "source": [
    "inp0[\"CODE_GENDER\"].value_counts()"
   ]
  },
  {
   "cell_type": "code",
   "execution_count": 26,
   "id": "e903136a",
   "metadata": {},
   "outputs": [
    {
     "data": {
      "text/plain": [
       "0    F\n",
       "dtype: object"
      ]
     },
     "execution_count": 26,
     "metadata": {},
     "output_type": "execute_result"
    }
   ],
   "source": [
    "inp0[\"CODE_GENDER\"].mode()"
   ]
  },
  {
   "cell_type": "code",
   "execution_count": 27,
   "id": "b6a7e772",
   "metadata": {},
   "outputs": [
    {
     "data": {
      "text/plain": [
       "F    202452\n",
       "M    105059\n",
       "Name: CODE_GENDER, dtype: int64"
      ]
     },
     "execution_count": 27,
     "metadata": {},
     "output_type": "execute_result"
    }
   ],
   "source": [
    "#add 'XNA'(which means 'Not Available') values to the mode as 'XNA' values are negligible and adding them to the mode will not affect the analysis\n",
    "\n",
    "inp0[\"CODE_GENDER\"].replace(\"XNA\", \"F\", inplace = True)\n",
    "inp0['CODE_GENDER'].value_counts()"
   ]
  },
  {
   "cell_type": "code",
   "execution_count": 28,
   "id": "e7965042",
   "metadata": {},
   "outputs": [
    {
     "data": {
      "text/plain": [
       "Business Entity Type 3    67992\n",
       "XNA                       55374\n",
       "Self-employed             38412\n",
       "Other                     16683\n",
       "Medicine                  11193\n",
       "Business Entity Type 2    10553\n",
       "Government                10404\n",
       "School                     8893\n",
       "Trade: type 7              7831\n",
       "Kindergarten               6880\n",
       "Construction               6721\n",
       "Business Entity Type 1     5984\n",
       "Transport: type 4          5398\n",
       "Trade: type 3              3492\n",
       "Industry: type 9           3368\n",
       "Industry: type 3           3278\n",
       "Security                   3247\n",
       "Housing                    2958\n",
       "Industry: type 11          2704\n",
       "Military                   2634\n",
       "Bank                       2507\n",
       "Agriculture                2454\n",
       "Police                     2341\n",
       "Transport: type 2          2204\n",
       "Postal                     2157\n",
       "Security Ministries        1974\n",
       "Trade: type 2              1900\n",
       "Restaurant                 1811\n",
       "Services                   1575\n",
       "University                 1327\n",
       "Industry: type 7           1307\n",
       "Transport: type 3          1187\n",
       "Industry: type 1           1039\n",
       "Hotel                       966\n",
       "Electricity                 950\n",
       "Industry: type 4            877\n",
       "Trade: type 6               631\n",
       "Industry: type 5            599\n",
       "Insurance                   597\n",
       "Telecom                     577\n",
       "Emergency                   560\n",
       "Industry: type 2            458\n",
       "Advertising                 429\n",
       "Realtor                     396\n",
       "Culture                     379\n",
       "Industry: type 12           369\n",
       "Trade: type 1               348\n",
       "Mobile                      317\n",
       "Legal Services              305\n",
       "Cleaning                    260\n",
       "Transport: type 1           201\n",
       "Industry: type 6            112\n",
       "Industry: type 10           109\n",
       "Religion                     85\n",
       "Industry: type 13            67\n",
       "Trade: type 4                64\n",
       "Trade: type 5                49\n",
       "Industry: type 8             24\n",
       "Name: ORGANIZATION_TYPE, dtype: int64"
      ]
     },
     "execution_count": 28,
     "metadata": {},
     "output_type": "execute_result"
    }
   ],
   "source": [
    "#Column:ORGANIZATION_TYPE\n",
    "inp0[\"ORGANIZATION_TYPE\"].value_counts()"
   ]
  },
  {
   "cell_type": "code",
   "execution_count": 29,
   "id": "09d66af8",
   "metadata": {},
   "outputs": [
    {
     "data": {
      "text/plain": [
       "count                     307511\n",
       "unique                        58\n",
       "top       Business Entity Type 3\n",
       "freq                       67992\n",
       "Name: ORGANIZATION_TYPE, dtype: object"
      ]
     },
     "execution_count": 29,
     "metadata": {},
     "output_type": "execute_result"
    }
   ],
   "source": [
    "inp0['ORGANIZATION_TYPE'].describe()"
   ]
  },
  {
   "cell_type": "markdown",
   "id": "63750f7f",
   "metadata": {},
   "source": [
    "### For column 'ORGANIZATION_TYPE', total count is 307511 and 55374 rows are having 'XNA'(which means 'Not Available') values. Which means 18% of the column is having 'XNA' values. Hence if we drop these rows,will not have any major impact on our dataset."
   ]
  },
  {
   "cell_type": "code",
   "execution_count": 30,
   "id": "ca90368c",
   "metadata": {},
   "outputs": [
    {
     "data": {
      "text/plain": [
       "(0, 81)"
      ]
     },
     "execution_count": 30,
     "metadata": {},
     "output_type": "execute_result"
    }
   ],
   "source": [
    "# Dropping the rows which have'XNA' values in the 'ORGANIZATION_TYPE' column.\n",
    "inp0=inp0.drop(inp0.loc[inp0['ORGANIZATION_TYPE']=='XNA'].index)\n",
    "inp0[inp0['ORGANIZATION_TYPE']=='XNA'].shape"
   ]
  },
  {
   "cell_type": "code",
   "execution_count": 31,
   "id": "e8f91544",
   "metadata": {},
   "outputs": [],
   "source": [
    "#Following unwanted columns Dropped(Which would not help in analysis or finding defaulters)\n",
    "drop_col=([\"FLAG_MOBIL\",\"FLAG_EMP_PHONE\", \"FLAG_WORK_PHONE\", \"FLAG_CONT_MOBILE\", \"FLAG_PHONE\",\"FLAG_EMAIL\",\"REGION_RATING_CLIENT\", \"REGION_RATING_CLIENT_W_CITY\",\"REGION_RATING_CLIENT\", \"REGION_RATING_CLIENT_W_CITY\", \"DAYS_LAST_PHONE_CHANGE\",\"FLAG_DOCUMENT_2\", \"FLAG_DOCUMENT_3\", \"FLAG_DOCUMENT_4\", \"FLAG_DOCUMENT_5\", \"FLAG_DOCUMENT_6\", \"FLAG_DOCUMENT_7\", \"FLAG_DOCUMENT_8\", \"FLAG_DOCUMENT_9\", \"FLAG_DOCUMENT_10\", \"FLAG_DOCUMENT_11\", \"FLAG_DOCUMENT_12\", \"FLAG_DOCUMENT_13\", \"FLAG_DOCUMENT_14\", \"FLAG_DOCUMENT_15\", \"FLAG_DOCUMENT_16\", \"FLAG_DOCUMENT_17\", \"FLAG_DOCUMENT_18\", \"FLAG_DOCUMENT_19\", \"FLAG_DOCUMENT_20\", \"FLAG_DOCUMENT_21\", \"EXT_SOURCE_2\", \"EXT_SOURCE_3\", \"YEARS_BEGINEXPLUATATION_AVG\", \"FLOORSMAX_AVG\", \"YEARS_BEGINEXPLUATATION_MODE\", \"FLOORSMAX_MODE\", \"YEARS_BEGINEXPLUATATION_MEDI\", \"FLOORSMAX_MEDI\", \"TOTALAREA_MODE\", \"EMERGENCYSTATE_MODE\"])\n",
    "inp0.drop(labels=drop_col,axis=1,inplace=True)"
   ]
  },
  {
   "cell_type": "code",
   "execution_count": 32,
   "id": "8d200edd",
   "metadata": {},
   "outputs": [
    {
     "data": {
      "text/plain": [
       "(252137, 42)"
      ]
     },
     "execution_count": 32,
     "metadata": {},
     "output_type": "execute_result"
    }
   ],
   "source": [
    "inp0.shape"
   ]
  },
  {
   "cell_type": "code",
   "execution_count": 33,
   "id": "52e654cf",
   "metadata": {},
   "outputs": [
    {
     "data": {
      "text/plain": [
       "SK_ID_CURR                      0.000000\n",
       "TARGET                          0.000000\n",
       "NAME_CONTRACT_TYPE              0.000000\n",
       "CODE_GENDER                     0.000000\n",
       "FLAG_OWN_CAR                    0.000000\n",
       "FLAG_OWN_REALTY                 0.000000\n",
       "CNT_CHILDREN                    0.000000\n",
       "AMT_INCOME_TOTAL                0.000000\n",
       "AMT_CREDIT                      0.000000\n",
       "AMT_ANNUITY                     0.000000\n",
       "AMT_GOODS_PRICE                 0.000000\n",
       "NAME_TYPE_SUITE                 0.000000\n",
       "NAME_INCOME_TYPE                0.000000\n",
       "NAME_EDUCATION_TYPE             0.000000\n",
       "NAME_FAMILY_STATUS              0.000000\n",
       "NAME_HOUSING_TYPE               0.000000\n",
       "REGION_POPULATION_RELATIVE      0.000000\n",
       "DAYS_BIRTH                      0.000000\n",
       "DAYS_EMPLOYED                   0.000000\n",
       "DAYS_REGISTRATION               0.000000\n",
       "DAYS_ID_PUBLISH                 0.000000\n",
       "OCCUPATION_TYPE                 0.000000\n",
       "CNT_FAM_MEMBERS                 0.000793\n",
       "WEEKDAY_APPR_PROCESS_START      0.000000\n",
       "HOUR_APPR_PROCESS_START         0.000000\n",
       "REG_REGION_NOT_LIVE_REGION      0.000000\n",
       "REG_REGION_NOT_WORK_REGION      0.000000\n",
       "LIVE_REGION_NOT_WORK_REGION     0.000000\n",
       "REG_CITY_NOT_LIVE_CITY          0.000000\n",
       "REG_CITY_NOT_WORK_CITY          0.000000\n",
       "LIVE_CITY_NOT_WORK_CITY         0.000000\n",
       "ORGANIZATION_TYPE               0.000000\n",
       "OBS_30_CNT_SOCIAL_CIRCLE        0.336722\n",
       "DEF_30_CNT_SOCIAL_CIRCLE        0.336722\n",
       "OBS_60_CNT_SOCIAL_CIRCLE        0.336722\n",
       "DEF_60_CNT_SOCIAL_CIRCLE        0.336722\n",
       "AMT_REQ_CREDIT_BUREAU_HOUR     13.427621\n",
       "AMT_REQ_CREDIT_BUREAU_DAY      13.427621\n",
       "AMT_REQ_CREDIT_BUREAU_WEEK     13.427621\n",
       "AMT_REQ_CREDIT_BUREAU_MON      13.427621\n",
       "AMT_REQ_CREDIT_BUREAU_QRT      13.427621\n",
       "AMT_REQ_CREDIT_BUREAU_YEAR     13.427621\n",
       "dtype: float64"
      ]
     },
     "execution_count": 33,
     "metadata": {},
     "output_type": "execute_result"
    }
   ],
   "source": [
    "(inp0.isnull().sum()/len(inp0.index))*100"
   ]
  },
  {
   "cell_type": "code",
   "execution_count": 34,
   "id": "2b8e2a06",
   "metadata": {},
   "outputs": [
    {
     "name": "stdout",
     "output_type": "stream",
     "text": [
      "<class 'pandas.core.frame.DataFrame'>\n",
      "Int64Index: 252135 entries, 0 to 307510\n",
      "Data columns (total 1 columns):\n",
      " #   Column           Non-Null Count   Dtype  \n",
      "---  ------           --------------   -----  \n",
      " 0   CNT_FAM_MEMBERS  252135 non-null  float64\n",
      "dtypes: float64(1)\n",
      "memory usage: 3.8 MB\n"
     ]
    }
   ],
   "source": [
    "#Dropping the rows with null value in CNT_FAM_MEMBERS Column:\n",
    "inp0 = inp0.dropna(subset=[\"CNT_FAM_MEMBERS\"]) \n",
    "inp0[[\"CNT_FAM_MEMBERS\"]].info()"
   ]
  },
  {
   "cell_type": "code",
   "execution_count": 35,
   "id": "b6c7afed",
   "metadata": {},
   "outputs": [
    {
     "name": "stdout",
     "output_type": "stream",
     "text": [
      "<class 'pandas.core.frame.DataFrame'>\n",
      "Int64Index: 252135 entries, 0 to 307510\n",
      "Data columns (total 1 columns):\n",
      " #   Column           Non-Null Count   Dtype\n",
      "---  ------           --------------   -----\n",
      " 0   CNT_FAM_MEMBERS  252135 non-null  int32\n",
      "dtypes: int32(1)\n",
      "memory usage: 2.9 MB\n"
     ]
    }
   ],
   "source": [
    "#Converting number of family members value to integer since in fraction form:\n",
    "inp0['CNT_FAM_MEMBERS']= inp0['CNT_FAM_MEMBERS'].astype(int)\n",
    "inp0[['CNT_FAM_MEMBERS']].info()"
   ]
  },
  {
   "cell_type": "code",
   "execution_count": 36,
   "id": "6ba975f4",
   "metadata": {},
   "outputs": [
    {
     "data": {
      "text/plain": [
       "count    251286.000000\n",
       "mean          1.415757\n",
       "std           2.399984\n",
       "min           0.000000\n",
       "25%           0.000000\n",
       "50%           0.000000\n",
       "75%           2.000000\n",
       "max         348.000000\n",
       "Name: OBS_30_CNT_SOCIAL_CIRCLE, dtype: float64"
      ]
     },
     "execution_count": 36,
     "metadata": {},
     "output_type": "execute_result"
    }
   ],
   "source": [
    "#COLUMN:OBS_30_CNT_SOCIAL_CIRCLE\n",
    "inp0[\"OBS_30_CNT_SOCIAL_CIRCLE\"].describe()"
   ]
  },
  {
   "cell_type": "code",
   "execution_count": 37,
   "id": "7e7d6da9",
   "metadata": {},
   "outputs": [
    {
     "data": {
      "text/plain": [
       "1.4157573442213256"
      ]
     },
     "execution_count": 37,
     "metadata": {},
     "output_type": "execute_result"
    }
   ],
   "source": [
    "inp0[\"OBS_30_CNT_SOCIAL_CIRCLE\"].mean()"
   ]
  },
  {
   "cell_type": "code",
   "execution_count": 38,
   "id": "c71d9ceb",
   "metadata": {},
   "outputs": [],
   "source": [
    "inp0[\"OBS_30_CNT_SOCIAL_CIRCLE\"] = inp0[\"OBS_30_CNT_SOCIAL_CIRCLE\"].fillna(inp0[\"OBS_30_CNT_SOCIAL_CIRCLE\"].mean())"
   ]
  },
  {
   "cell_type": "code",
   "execution_count": 39,
   "id": "e6359234",
   "metadata": {},
   "outputs": [
    {
     "data": {
      "image/png": "[encoded data removed]",
      "text/plain": [
       "<Figure size 432x288 with 1 Axes>"
      ]
     },
     "metadata": {
      "needs_background": "light"
     },
     "output_type": "display_data"
    }
   ],
   "source": [
    "inp0.boxplot(\"OBS_30_CNT_SOCIAL_CIRCLE\")\n",
    "plt.show()"
   ]
  },
  {
   "cell_type": "markdown",
   "id": "e6652e00",
   "metadata": {},
   "source": [
    "### Oulier values will be ramain in \"OBS_30_CNT_SOCIAL_CIRCLE\" column as per mentioned in problem statement."
   ]
  },
  {
   "cell_type": "code",
   "execution_count": 40,
   "id": "d4b7290d",
   "metadata": {},
   "outputs": [
    {
     "data": {
      "text/plain": [
       "count    251286.000000\n",
       "mean          0.139948\n",
       "std           0.441934\n",
       "min           0.000000\n",
       "25%           0.000000\n",
       "50%           0.000000\n",
       "75%           0.000000\n",
       "max          34.000000\n",
       "Name: DEF_30_CNT_SOCIAL_CIRCLE, dtype: float64"
      ]
     },
     "execution_count": 40,
     "metadata": {},
     "output_type": "execute_result"
    }
   ],
   "source": [
    "#Column:DEF_30_CNT_SOCIAL_CIRCLE        \n",
    "inp0[\"DEF_30_CNT_SOCIAL_CIRCLE\"].describe()"
   ]
  },
  {
   "cell_type": "markdown",
   "id": "cb6cb895",
   "metadata": {},
   "source": [
    "### Filling missing values with mean as the data is continuous."
   ]
  },
  {
   "cell_type": "code",
   "execution_count": 41,
   "id": "6cb90332",
   "metadata": {},
   "outputs": [],
   "source": [
    "inp0[\"DEF_30_CNT_SOCIAL_CIRCLE\"] = inp0[\"DEF_30_CNT_SOCIAL_CIRCLE\"].fillna(inp0[\"DEF_30_CNT_SOCIAL_CIRCLE\"].mean())"
   ]
  },
  {
   "cell_type": "code",
   "execution_count": 42,
   "id": "a114a092",
   "metadata": {},
   "outputs": [
    {
     "data": {
      "image/png": "[encoded data removed]",
      "text/plain": [
       "<Figure size 432x288 with 1 Axes>"
      ]
     },
     "metadata": {
      "needs_background": "light"
     },
     "output_type": "display_data"
    }
   ],
   "source": [
    "inp0.boxplot(\"DEF_30_CNT_SOCIAL_CIRCLE\")\n",
    "plt.show()"
   ]
  },
  {
   "cell_type": "code",
   "execution_count": 43,
   "id": "f230467d",
   "metadata": {},
   "outputs": [
    {
     "data": {
      "text/plain": [
       "count    251286.000000\n",
       "mean          1.398689\n",
       "std           2.378469\n",
       "min           0.000000\n",
       "25%           0.000000\n",
       "50%           0.000000\n",
       "75%           2.000000\n",
       "max         344.000000\n",
       "Name: OBS_60_CNT_SOCIAL_CIRCLE, dtype: float64"
      ]
     },
     "execution_count": 43,
     "metadata": {},
     "output_type": "execute_result"
    }
   ],
   "source": [
    "# Column:OBS_60_CNT_SOCIAL_CIRCLE\n",
    "inp0[\"OBS_60_CNT_SOCIAL_CIRCLE\"].describe()"
   ]
  },
  {
   "cell_type": "code",
   "execution_count": 44,
   "id": "9a861d1c",
   "metadata": {},
   "outputs": [
    {
     "data": {
      "image/png": "[encoded data removed]",
      "text/plain": [
       "<Figure size 432x288 with 1 Axes>"
      ]
     },
     "metadata": {
      "needs_background": "light"
     },
     "output_type": "display_data"
    }
   ],
   "source": [
    "inp0.boxplot(\"OBS_60_CNT_SOCIAL_CIRCLE\")\n",
    "plt.show()"
   ]
  },
  {
   "cell_type": "code",
   "execution_count": 45,
   "id": "2adab984",
   "metadata": {},
   "outputs": [],
   "source": [
    "#Filling missing values with median \n",
    "inp0[\"OBS_60_CNT_SOCIAL_CIRCLE\"] = inp0[\"OBS_60_CNT_SOCIAL_CIRCLE\"].fillna(inp0[\"OBS_60_CNT_SOCIAL_CIRCLE\"].median())"
   ]
  },
  {
   "cell_type": "markdown",
   "id": "2eadc0a4",
   "metadata": {},
   "source": [
    "### Oulier values will be ramain in \"OBS_60_CNT_SOCIAL_CIRCLE\" column as per mentioned in problem statement."
   ]
  },
  {
   "cell_type": "code",
   "execution_count": 46,
   "id": "b383ea4e",
   "metadata": {},
   "outputs": [
    {
     "data": {
      "text/plain": [
       "count    251286.000000\n",
       "mean          0.097662\n",
       "std           0.358148\n",
       "min           0.000000\n",
       "25%           0.000000\n",
       "50%           0.000000\n",
       "75%           0.000000\n",
       "max          24.000000\n",
       "Name: DEF_60_CNT_SOCIAL_CIRCLE, dtype: float64"
      ]
     },
     "execution_count": 46,
     "metadata": {},
     "output_type": "execute_result"
    }
   ],
   "source": [
    "#Column:DEF_60_CNT_SOCIAL_CIRCLE\n",
    "inp0[\"DEF_60_CNT_SOCIAL_CIRCLE\"].describe()"
   ]
  },
  {
   "cell_type": "code",
   "execution_count": 47,
   "id": "3086b040",
   "metadata": {},
   "outputs": [
    {
     "data": {
      "image/png": "[encoded data removed]",
      "text/plain": [
       "<Figure size 432x288 with 1 Axes>"
      ]
     },
     "metadata": {
      "needs_background": "light"
     },
     "output_type": "display_data"
    }
   ],
   "source": [
    "inp0.boxplot(\"DEF_60_CNT_SOCIAL_CIRCLE\")\n",
    "plt.show()"
   ]
  },
  {
   "cell_type": "code",
   "execution_count": 48,
   "id": "020f2cb5",
   "metadata": {},
   "outputs": [],
   "source": [
    "#Filling missing values with median\n",
    "inp0[\"DEF_60_CNT_SOCIAL_CIRCLE\"] = inp0[\"DEF_60_CNT_SOCIAL_CIRCLE\"].fillna(inp0[\"DEF_60_CNT_SOCIAL_CIRCLE\"].median())"
   ]
  },
  {
   "cell_type": "code",
   "execution_count": 49,
   "id": "5a5ee1fb",
   "metadata": {},
   "outputs": [
    {
     "data": {
      "text/plain": [
       "count    218280.000000\n",
       "mean          0.006588\n",
       "std           0.085093\n",
       "min           0.000000\n",
       "25%           0.000000\n",
       "50%           0.000000\n",
       "75%           0.000000\n",
       "max           4.000000\n",
       "Name: AMT_REQ_CREDIT_BUREAU_HOUR, dtype: float64"
      ]
     },
     "execution_count": 49,
     "metadata": {},
     "output_type": "execute_result"
    }
   ],
   "source": [
    "#Column: AMT_REQ_CREDIT_BUREAU_HOUR \n",
    "inp0[\"AMT_REQ_CREDIT_BUREAU_HOUR\"].describe()"
   ]
  },
  {
   "cell_type": "code",
   "execution_count": 50,
   "id": "5aa2255e",
   "metadata": {},
   "outputs": [
    {
     "data": {
      "image/png": "[encoded data removed]",
      "text/plain": [
       "<Figure size 432x288 with 1 Axes>"
      ]
     },
     "metadata": {
      "needs_background": "light"
     },
     "output_type": "display_data"
    }
   ],
   "source": [
    "inp0.boxplot(\"AMT_REQ_CREDIT_BUREAU_HOUR\")\n",
    "plt.show()"
   ]
  },
  {
   "cell_type": "code",
   "execution_count": 51,
   "id": "454a5c02",
   "metadata": {},
   "outputs": [],
   "source": [
    "#Filling missing values with mean as the data is continuous,no ouliers\n",
    "\n",
    "inp0[\"AMT_REQ_CREDIT_BUREAU_HOUR\"] = inp0[\"AMT_REQ_CREDIT_BUREAU_HOUR\"].fillna(inp0[\"AMT_REQ_CREDIT_BUREAU_HOUR\"].mean())"
   ]
  },
  {
   "cell_type": "code",
   "execution_count": 52,
   "id": "c227b9d6",
   "metadata": {},
   "outputs": [
    {
     "data": {
      "text/plain": [
       "count    218280.000000\n",
       "mean          0.006977\n",
       "std           0.111020\n",
       "min           0.000000\n",
       "25%           0.000000\n",
       "50%           0.000000\n",
       "75%           0.000000\n",
       "max           9.000000\n",
       "Name: AMT_REQ_CREDIT_BUREAU_DAY, dtype: float64"
      ]
     },
     "execution_count": 52,
     "metadata": {},
     "output_type": "execute_result"
    }
   ],
   "source": [
    "#Column: AMT_REQ_CREDIT_BUREAU_DAY \n",
    "inp0[\"AMT_REQ_CREDIT_BUREAU_DAY\"].describe()"
   ]
  },
  {
   "cell_type": "code",
   "execution_count": 53,
   "id": "ecf55a0e",
   "metadata": {},
   "outputs": [
    {
     "data": {
      "image/png": "[encoded data removed]",
      "text/plain": [
       "<Figure size 432x288 with 1 Axes>"
      ]
     },
     "metadata": {
      "needs_background": "light"
     },
     "output_type": "display_data"
    }
   ],
   "source": [
    "inp0.boxplot(\"AMT_REQ_CREDIT_BUREAU_DAY\")\n",
    "plt.show()"
   ]
  },
  {
   "cell_type": "code",
   "execution_count": 54,
   "id": "e00e6ba5",
   "metadata": {},
   "outputs": [],
   "source": [
    "#Filling missing values with mean as no outliers are seen\n",
    "inp0[\"AMT_REQ_CREDIT_BUREAU_DAY\"] = inp0[\"AMT_REQ_CREDIT_BUREAU_DAY\"].fillna(inp0[\"AMT_REQ_CREDIT_BUREAU_DAY\"].mean())"
   ]
  },
  {
   "cell_type": "code",
   "execution_count": 55,
   "id": "fae7c3b3",
   "metadata": {},
   "outputs": [
    {
     "data": {
      "text/plain": [
       "count    218280.000000\n",
       "mean          0.034071\n",
       "std           0.202826\n",
       "min           0.000000\n",
       "25%           0.000000\n",
       "50%           0.000000\n",
       "75%           0.000000\n",
       "max           8.000000\n",
       "Name: AMT_REQ_CREDIT_BUREAU_WEEK, dtype: float64"
      ]
     },
     "execution_count": 55,
     "metadata": {},
     "output_type": "execute_result"
    }
   ],
   "source": [
    "#Column:AMT_REQ_CREDIT_BUREAU_WEEK\n",
    "inp0[\"AMT_REQ_CREDIT_BUREAU_WEEK\"].describe()"
   ]
  },
  {
   "cell_type": "code",
   "execution_count": 56,
   "id": "594d7899",
   "metadata": {},
   "outputs": [
    {
     "data": {
      "image/png": "[encoded data removed]",
      "text/plain": [
       "<Figure size 432x288 with 1 Axes>"
      ]
     },
     "metadata": {
      "needs_background": "light"
     },
     "output_type": "display_data"
    }
   ],
   "source": [
    "inp0.boxplot(\"AMT_REQ_CREDIT_BUREAU_WEEK\")\n",
    "plt.show()"
   ]
  },
  {
   "cell_type": "code",
   "execution_count": 57,
   "id": "aca1a720",
   "metadata": {},
   "outputs": [],
   "source": [
    "#Filling missing values with mean as data is continuous\n",
    "inp0[\"AMT_REQ_CREDIT_BUREAU_WEEK\"] = inp0[\"AMT_REQ_CREDIT_BUREAU_WEEK\"].fillna(inp0[\"AMT_REQ_CREDIT_BUREAU_WEEK\"].mean())"
   ]
  },
  {
   "cell_type": "code",
   "execution_count": 58,
   "id": "8486e5a2",
   "metadata": {},
   "outputs": [
    {
     "data": {
      "text/plain": [
       "count    218280.000000\n",
       "mean          0.282005\n",
       "std           0.948369\n",
       "min           0.000000\n",
       "25%           0.000000\n",
       "50%           0.000000\n",
       "75%           0.000000\n",
       "max          27.000000\n",
       "Name: AMT_REQ_CREDIT_BUREAU_MON, dtype: float64"
      ]
     },
     "execution_count": 58,
     "metadata": {},
     "output_type": "execute_result"
    }
   ],
   "source": [
    "#Column:AMT_REQ_CREDIT_BUREAU_MON\n",
    "inp0[\"AMT_REQ_CREDIT_BUREAU_MON\"].describe()"
   ]
  },
  {
   "cell_type": "code",
   "execution_count": 59,
   "id": "957200ab",
   "metadata": {},
   "outputs": [
    {
     "data": {
      "image/png": "[encoded data removed]",
      "text/plain": [
       "<Figure size 432x288 with 1 Axes>"
      ]
     },
     "metadata": {
      "needs_background": "light"
     },
     "output_type": "display_data"
    }
   ],
   "source": [
    "inp0.boxplot(\"AMT_REQ_CREDIT_BUREAU_MON\")\n",
    "plt.show()"
   ]
  },
  {
   "cell_type": "code",
   "execution_count": 60,
   "id": "4ed7461b",
   "metadata": {},
   "outputs": [],
   "source": [
    "#Filling missing values with mean as no outliers are seen:\n",
    "inp0[\"AMT_REQ_CREDIT_BUREAU_MON\"] = inp0[\"AMT_REQ_CREDIT_BUREAU_MON\"].fillna(inp0[\"AMT_REQ_CREDIT_BUREAU_MON\"].mean())"
   ]
  },
  {
   "cell_type": "code",
   "execution_count": 61,
   "id": "29bd24b9",
   "metadata": {},
   "outputs": [
    {
     "data": {
      "text/plain": [
       "count    218280.000000\n",
       "mean          0.259813\n",
       "std           0.823681\n",
       "min           0.000000\n",
       "25%           0.000000\n",
       "50%           0.000000\n",
       "75%           0.000000\n",
       "max         261.000000\n",
       "Name: AMT_REQ_CREDIT_BUREAU_QRT, dtype: float64"
      ]
     },
     "execution_count": 61,
     "metadata": {},
     "output_type": "execute_result"
    }
   ],
   "source": [
    "#Column:AMT_REQ_CREDIT_BUREAU_QRT\n",
    "inp0[\"AMT_REQ_CREDIT_BUREAU_QRT\"].describe()"
   ]
  },
  {
   "cell_type": "code",
   "execution_count": 62,
   "id": "5b43c846",
   "metadata": {},
   "outputs": [
    {
     "data": {
      "image/png": "[encoded data removed]",
      "text/plain": [
       "<Figure size 432x288 with 1 Axes>"
      ]
     },
     "metadata": {
      "needs_background": "light"
     },
     "output_type": "display_data"
    }
   ],
   "source": [
    "inp0.boxplot(\"AMT_REQ_CREDIT_BUREAU_QRT\")\n",
    "plt.show()"
   ]
  },
  {
   "cell_type": "markdown",
   "id": "964339ad",
   "metadata": {},
   "source": [
    "#### Outlier values will be ramain in \"\"AMT_REQ_CREDIT_BUREAU_QRT\" column as per mentioned in problem statement."
   ]
  },
  {
   "cell_type": "code",
   "execution_count": 63,
   "id": "d4f18ac0",
   "metadata": {},
   "outputs": [],
   "source": [
    "#Filling missing values with median as oulier is present.\n",
    "\n",
    "inp0[\"AMT_REQ_CREDIT_BUREAU_QRT\"] = inp0[\"AMT_REQ_CREDIT_BUREAU_QRT\"].fillna(inp0[\"AMT_REQ_CREDIT_BUREAU_QRT\"].median())"
   ]
  },
  {
   "cell_type": "code",
   "execution_count": 64,
   "id": "ad1b61c3",
   "metadata": {},
   "outputs": [
    {
     "data": {
      "text/plain": [
       "0"
      ]
     },
     "execution_count": 64,
     "metadata": {},
     "output_type": "execute_result"
    }
   ],
   "source": [
    "inp0[\"AMT_REQ_CREDIT_BUREAU_QRT\"].isnull().sum()"
   ]
  },
  {
   "cell_type": "code",
   "execution_count": 65,
   "id": "1db2d2f4",
   "metadata": {},
   "outputs": [
    {
     "data": {
      "text/plain": [
       "count    218280.000000\n",
       "mean          1.856281\n",
       "std           1.826301\n",
       "min           0.000000\n",
       "25%           0.000000\n",
       "50%           1.000000\n",
       "75%           3.000000\n",
       "max          23.000000\n",
       "Name: AMT_REQ_CREDIT_BUREAU_YEAR, dtype: float64"
      ]
     },
     "execution_count": 65,
     "metadata": {},
     "output_type": "execute_result"
    }
   ],
   "source": [
    "#Column:AMT_REQ_CREDIT_BUREAU_YEAR\n",
    "inp0[\"AMT_REQ_CREDIT_BUREAU_YEAR\"].describe()"
   ]
  },
  {
   "cell_type": "code",
   "execution_count": 66,
   "id": "84943490",
   "metadata": {},
   "outputs": [
    {
     "data": {
      "image/png": "[encoded data removed]",
      "text/plain": [
       "<Figure size 432x288 with 1 Axes>"
      ]
     },
     "metadata": {
      "needs_background": "light"
     },
     "output_type": "display_data"
    }
   ],
   "source": [
    "inp0.boxplot(\"AMT_REQ_CREDIT_BUREAU_YEAR\")\n",
    "plt.show()"
   ]
  },
  {
   "cell_type": "code",
   "execution_count": 67,
   "id": "92358237",
   "metadata": {},
   "outputs": [],
   "source": [
    "### Outlier values will be ramain in \"\"AMT_REQ_CREDIT_BUREAU_YEAR\" column as per mentioned in problem statement \n",
    "### High number of values are Outlier hence imputing missing values with mean to include outliers.\n",
    "inp0[\"AMT_REQ_CREDIT_BUREAU_YEAR\"] = inp0[\"AMT_REQ_CREDIT_BUREAU_YEAR\"].fillna(inp0[\"AMT_REQ_CREDIT_BUREAU_YEAR\"].mean())"
   ]
  },
  {
   "cell_type": "code",
   "execution_count": 68,
   "id": "975c835d",
   "metadata": {},
   "outputs": [
    {
     "data": {
      "text/plain": [
       "0"
      ]
     },
     "execution_count": 68,
     "metadata": {},
     "output_type": "execute_result"
    }
   ],
   "source": [
    "inp0[\"AMT_REQ_CREDIT_BUREAU_YEAR\"].isnull().sum()"
   ]
  },
  {
   "cell_type": "code",
   "execution_count": 69,
   "id": "97a7997e",
   "metadata": {},
   "outputs": [
    {
     "data": {
      "text/plain": [
       "SK_ID_CURR                     0\n",
       "TARGET                         0\n",
       "NAME_CONTRACT_TYPE             0\n",
       "CODE_GENDER                    0\n",
       "FLAG_OWN_CAR                   0\n",
       "FLAG_OWN_REALTY                0\n",
       "CNT_CHILDREN                   0\n",
       "AMT_INCOME_TOTAL               0\n",
       "AMT_CREDIT                     0\n",
       "AMT_ANNUITY                    0\n",
       "AMT_GOODS_PRICE                0\n",
       "NAME_TYPE_SUITE                0\n",
       "NAME_INCOME_TYPE               0\n",
       "NAME_EDUCATION_TYPE            0\n",
       "NAME_FAMILY_STATUS             0\n",
       "NAME_HOUSING_TYPE              0\n",
       "REGION_POPULATION_RELATIVE     0\n",
       "DAYS_BIRTH                     0\n",
       "DAYS_EMPLOYED                  0\n",
       "DAYS_REGISTRATION              0\n",
       "DAYS_ID_PUBLISH                0\n",
       "OCCUPATION_TYPE                0\n",
       "CNT_FAM_MEMBERS                0\n",
       "WEEKDAY_APPR_PROCESS_START     0\n",
       "HOUR_APPR_PROCESS_START        0\n",
       "REG_REGION_NOT_LIVE_REGION     0\n",
       "REG_REGION_NOT_WORK_REGION     0\n",
       "LIVE_REGION_NOT_WORK_REGION    0\n",
       "REG_CITY_NOT_LIVE_CITY         0\n",
       "REG_CITY_NOT_WORK_CITY         0\n",
       "LIVE_CITY_NOT_WORK_CITY        0\n",
       "ORGANIZATION_TYPE              0\n",
       "OBS_30_CNT_SOCIAL_CIRCLE       0\n",
       "DEF_30_CNT_SOCIAL_CIRCLE       0\n",
       "OBS_60_CNT_SOCIAL_CIRCLE       0\n",
       "DEF_60_CNT_SOCIAL_CIRCLE       0\n",
       "AMT_REQ_CREDIT_BUREAU_HOUR     0\n",
       "AMT_REQ_CREDIT_BUREAU_DAY      0\n",
       "AMT_REQ_CREDIT_BUREAU_WEEK     0\n",
       "AMT_REQ_CREDIT_BUREAU_MON      0\n",
       "AMT_REQ_CREDIT_BUREAU_QRT      0\n",
       "AMT_REQ_CREDIT_BUREAU_YEAR     0\n",
       "dtype: int64"
      ]
     },
     "execution_count": 69,
     "metadata": {},
     "output_type": "execute_result"
    }
   ],
   "source": [
    "inp0.isnull().sum()"
   ]
  },
  {
   "cell_type": "code",
   "execution_count": 70,
   "id": "78f889a3",
   "metadata": {},
   "outputs": [
    {
     "name": "stdout",
     "output_type": "stream",
     "text": [
      "<class 'pandas.core.frame.DataFrame'>\n",
      "Int64Index: 252135 entries, 0 to 307510\n",
      "Data columns (total 42 columns):\n",
      " #   Column                       Non-Null Count   Dtype  \n",
      "---  ------                       --------------   -----  \n",
      " 0   SK_ID_CURR                   252135 non-null  int64  \n",
      " 1   TARGET                       252135 non-null  int64  \n",
      " 2   NAME_CONTRACT_TYPE           252135 non-null  object \n",
      " 3   CODE_GENDER                  252135 non-null  object \n",
      " 4   FLAG_OWN_CAR                 252135 non-null  object \n",
      " 5   FLAG_OWN_REALTY              252135 non-null  object \n",
      " 6   CNT_CHILDREN                 252135 non-null  int64  \n",
      " 7   AMT_INCOME_TOTAL             252135 non-null  float64\n",
      " 8   AMT_CREDIT                   252135 non-null  float64\n",
      " 9   AMT_ANNUITY                  252135 non-null  float64\n",
      " 10  AMT_GOODS_PRICE              252135 non-null  float64\n",
      " 11  NAME_TYPE_SUITE              252135 non-null  object \n",
      " 12  NAME_INCOME_TYPE             252135 non-null  object \n",
      " 13  NAME_EDUCATION_TYPE          252135 non-null  object \n",
      " 14  NAME_FAMILY_STATUS           252135 non-null  object \n",
      " 15  NAME_HOUSING_TYPE            252135 non-null  object \n",
      " 16  REGION_POPULATION_RELATIVE   252135 non-null  float64\n",
      " 17  DAYS_BIRTH                   252135 non-null  int64  \n",
      " 18  DAYS_EMPLOYED                252135 non-null  int64  \n",
      " 19  DAYS_REGISTRATION            252135 non-null  float64\n",
      " 20  DAYS_ID_PUBLISH              252135 non-null  int64  \n",
      " 21  OCCUPATION_TYPE              252135 non-null  object \n",
      " 22  CNT_FAM_MEMBERS              252135 non-null  int32  \n",
      " 23  WEEKDAY_APPR_PROCESS_START   252135 non-null  object \n",
      " 24  HOUR_APPR_PROCESS_START      252135 non-null  int64  \n",
      " 25  REG_REGION_NOT_LIVE_REGION   252135 non-null  int64  \n",
      " 26  REG_REGION_NOT_WORK_REGION   252135 non-null  int64  \n",
      " 27  LIVE_REGION_NOT_WORK_REGION  252135 non-null  int64  \n",
      " 28  REG_CITY_NOT_LIVE_CITY       252135 non-null  int64  \n",
      " 29  REG_CITY_NOT_WORK_CITY       252135 non-null  int64  \n",
      " 30  LIVE_CITY_NOT_WORK_CITY      252135 non-null  int64  \n",
      " 31  ORGANIZATION_TYPE            252135 non-null  object \n",
      " 32  OBS_30_CNT_SOCIAL_CIRCLE     252135 non-null  float64\n",
      " 33  DEF_30_CNT_SOCIAL_CIRCLE     252135 non-null  float64\n",
      " 34  OBS_60_CNT_SOCIAL_CIRCLE     252135 non-null  float64\n",
      " 35  DEF_60_CNT_SOCIAL_CIRCLE     252135 non-null  float64\n",
      " 36  AMT_REQ_CREDIT_BUREAU_HOUR   252135 non-null  float64\n",
      " 37  AMT_REQ_CREDIT_BUREAU_DAY    252135 non-null  float64\n",
      " 38  AMT_REQ_CREDIT_BUREAU_WEEK   252135 non-null  float64\n",
      " 39  AMT_REQ_CREDIT_BUREAU_MON    252135 non-null  float64\n",
      " 40  AMT_REQ_CREDIT_BUREAU_QRT    252135 non-null  float64\n",
      " 41  AMT_REQ_CREDIT_BUREAU_YEAR   252135 non-null  float64\n",
      "dtypes: float64(16), int32(1), int64(13), object(12)\n",
      "memory usage: 81.8+ MB\n"
     ]
    }
   ],
   "source": [
    "inp0.info(verbose = True, null_counts = True)"
   ]
  },
  {
   "cell_type": "markdown",
   "id": "0500e365",
   "metadata": {},
   "source": [
    "# Analysing Application Data:"
   ]
  },
  {
   "cell_type": "code",
   "execution_count": 71,
   "id": "c140f72b",
   "metadata": {},
   "outputs": [],
   "source": [
    "#Following columns in Dataframe which have negative values which does not make any sense therfore converting to absolute values\n",
    "\n",
    "inp0['DAYS_BIRTH'] = abs(inp0['DAYS_BIRTH'])\n",
    "inp0['DAYS_ID_PUBLISH'] = abs(inp0['DAYS_ID_PUBLISH'])\n",
    "inp0['DAYS_EMPLOYED'] = abs(inp0['DAYS_EMPLOYED'])\n",
    "inp0['DAYS_REGISTRATION'] = abs(inp0['DAYS_REGISTRATION'])"
   ]
  },
  {
   "cell_type": "code",
   "execution_count": 72,
   "id": "bf71e43b",
   "metadata": {},
   "outputs": [
    {
     "data": {
      "text/html": [
       "<div>\n",
       "<style scoped>\n",
       "    .dataframe tbody tr th:only-of-type {\n",
       "        vertical-align: middle;\n",
       "    }\n",
       "\n",
       "    .dataframe tbody tr th {\n",
       "        vertical-align: top;\n",
       "    }\n",
       "\n",
       "    .dataframe thead th {\n",
       "        text-align: right;\n",
       "    }\n",
       "</style>\n",
       "<table border=\"1\" class=\"dataframe\">\n",
       "  <thead>\n",
       "    <tr style=\"text-align: right;\">\n",
       "      <th></th>\n",
       "      <th>SK_ID_CURR</th>\n",
       "      <th>TARGET</th>\n",
       "      <th>NAME_CONTRACT_TYPE</th>\n",
       "      <th>CODE_GENDER</th>\n",
       "      <th>FLAG_OWN_CAR</th>\n",
       "      <th>FLAG_OWN_REALTY</th>\n",
       "      <th>CNT_CHILDREN</th>\n",
       "      <th>AMT_INCOME_TOTAL</th>\n",
       "      <th>AMT_CREDIT</th>\n",
       "      <th>AMT_ANNUITY</th>\n",
       "      <th>AMT_GOODS_PRICE</th>\n",
       "      <th>NAME_TYPE_SUITE</th>\n",
       "      <th>NAME_INCOME_TYPE</th>\n",
       "      <th>NAME_EDUCATION_TYPE</th>\n",
       "      <th>NAME_FAMILY_STATUS</th>\n",
       "      <th>NAME_HOUSING_TYPE</th>\n",
       "      <th>REGION_POPULATION_RELATIVE</th>\n",
       "      <th>DAYS_BIRTH</th>\n",
       "      <th>DAYS_EMPLOYED</th>\n",
       "      <th>DAYS_REGISTRATION</th>\n",
       "      <th>DAYS_ID_PUBLISH</th>\n",
       "      <th>OCCUPATION_TYPE</th>\n",
       "      <th>CNT_FAM_MEMBERS</th>\n",
       "      <th>WEEKDAY_APPR_PROCESS_START</th>\n",
       "      <th>HOUR_APPR_PROCESS_START</th>\n",
       "      <th>REG_REGION_NOT_LIVE_REGION</th>\n",
       "      <th>REG_REGION_NOT_WORK_REGION</th>\n",
       "      <th>LIVE_REGION_NOT_WORK_REGION</th>\n",
       "      <th>REG_CITY_NOT_LIVE_CITY</th>\n",
       "      <th>REG_CITY_NOT_WORK_CITY</th>\n",
       "      <th>LIVE_CITY_NOT_WORK_CITY</th>\n",
       "      <th>ORGANIZATION_TYPE</th>\n",
       "      <th>OBS_30_CNT_SOCIAL_CIRCLE</th>\n",
       "      <th>DEF_30_CNT_SOCIAL_CIRCLE</th>\n",
       "      <th>OBS_60_CNT_SOCIAL_CIRCLE</th>\n",
       "      <th>DEF_60_CNT_SOCIAL_CIRCLE</th>\n",
       "      <th>AMT_REQ_CREDIT_BUREAU_HOUR</th>\n",
       "      <th>AMT_REQ_CREDIT_BUREAU_DAY</th>\n",
       "      <th>AMT_REQ_CREDIT_BUREAU_WEEK</th>\n",
       "      <th>AMT_REQ_CREDIT_BUREAU_MON</th>\n",
       "      <th>AMT_REQ_CREDIT_BUREAU_QRT</th>\n",
       "      <th>AMT_REQ_CREDIT_BUREAU_YEAR</th>\n",
       "    </tr>\n",
       "  </thead>\n",
       "  <tbody>\n",
       "    <tr>\n",
       "      <th>0</th>\n",
       "      <td>100002</td>\n",
       "      <td>1</td>\n",
       "      <td>Cash loans</td>\n",
       "      <td>M</td>\n",
       "      <td>N</td>\n",
       "      <td>Y</td>\n",
       "      <td>0</td>\n",
       "      <td>202500.0</td>\n",
       "      <td>406597.5</td>\n",
       "      <td>24700.5</td>\n",
       "      <td>351000.0</td>\n",
       "      <td>Unaccompanied</td>\n",
       "      <td>Working</td>\n",
       "      <td>Secondary / secondary special</td>\n",
       "      <td>Single / not married</td>\n",
       "      <td>House / apartment</td>\n",
       "      <td>0.018801</td>\n",
       "      <td>9461</td>\n",
       "      <td>637</td>\n",
       "      <td>3648.0</td>\n",
       "      <td>2120</td>\n",
       "      <td>Laborers</td>\n",
       "      <td>1</td>\n",
       "      <td>WEDNESDAY</td>\n",
       "      <td>10</td>\n",
       "      <td>0</td>\n",
       "      <td>0</td>\n",
       "      <td>0</td>\n",
       "      <td>0</td>\n",
       "      <td>0</td>\n",
       "      <td>0</td>\n",
       "      <td>Business Entity Type 3</td>\n",
       "      <td>2.0</td>\n",
       "      <td>2.0</td>\n",
       "      <td>2.0</td>\n",
       "      <td>2.0</td>\n",
       "      <td>0.000000</td>\n",
       "      <td>0.000000</td>\n",
       "      <td>0.000000</td>\n",
       "      <td>0.000000</td>\n",
       "      <td>0.0</td>\n",
       "      <td>1.000000</td>\n",
       "    </tr>\n",
       "    <tr>\n",
       "      <th>1</th>\n",
       "      <td>100003</td>\n",
       "      <td>0</td>\n",
       "      <td>Cash loans</td>\n",
       "      <td>F</td>\n",
       "      <td>N</td>\n",
       "      <td>N</td>\n",
       "      <td>0</td>\n",
       "      <td>270000.0</td>\n",
       "      <td>1293502.5</td>\n",
       "      <td>35698.5</td>\n",
       "      <td>1129500.0</td>\n",
       "      <td>Family</td>\n",
       "      <td>State servant</td>\n",
       "      <td>Higher education</td>\n",
       "      <td>Married</td>\n",
       "      <td>House / apartment</td>\n",
       "      <td>0.003541</td>\n",
       "      <td>16765</td>\n",
       "      <td>1188</td>\n",
       "      <td>1186.0</td>\n",
       "      <td>291</td>\n",
       "      <td>Core staff</td>\n",
       "      <td>2</td>\n",
       "      <td>MONDAY</td>\n",
       "      <td>11</td>\n",
       "      <td>0</td>\n",
       "      <td>0</td>\n",
       "      <td>0</td>\n",
       "      <td>0</td>\n",
       "      <td>0</td>\n",
       "      <td>0</td>\n",
       "      <td>School</td>\n",
       "      <td>1.0</td>\n",
       "      <td>0.0</td>\n",
       "      <td>1.0</td>\n",
       "      <td>0.0</td>\n",
       "      <td>0.000000</td>\n",
       "      <td>0.000000</td>\n",
       "      <td>0.000000</td>\n",
       "      <td>0.000000</td>\n",
       "      <td>0.0</td>\n",
       "      <td>0.000000</td>\n",
       "    </tr>\n",
       "    <tr>\n",
       "      <th>2</th>\n",
       "      <td>100004</td>\n",
       "      <td>0</td>\n",
       "      <td>Revolving loans</td>\n",
       "      <td>M</td>\n",
       "      <td>Y</td>\n",
       "      <td>Y</td>\n",
       "      <td>0</td>\n",
       "      <td>67500.0</td>\n",
       "      <td>135000.0</td>\n",
       "      <td>6750.0</td>\n",
       "      <td>135000.0</td>\n",
       "      <td>Unaccompanied</td>\n",
       "      <td>Working</td>\n",
       "      <td>Secondary / secondary special</td>\n",
       "      <td>Single / not married</td>\n",
       "      <td>House / apartment</td>\n",
       "      <td>0.010032</td>\n",
       "      <td>19046</td>\n",
       "      <td>225</td>\n",
       "      <td>4260.0</td>\n",
       "      <td>2531</td>\n",
       "      <td>Laborers</td>\n",
       "      <td>1</td>\n",
       "      <td>MONDAY</td>\n",
       "      <td>9</td>\n",
       "      <td>0</td>\n",
       "      <td>0</td>\n",
       "      <td>0</td>\n",
       "      <td>0</td>\n",
       "      <td>0</td>\n",
       "      <td>0</td>\n",
       "      <td>Government</td>\n",
       "      <td>0.0</td>\n",
       "      <td>0.0</td>\n",
       "      <td>0.0</td>\n",
       "      <td>0.0</td>\n",
       "      <td>0.000000</td>\n",
       "      <td>0.000000</td>\n",
       "      <td>0.000000</td>\n",
       "      <td>0.000000</td>\n",
       "      <td>0.0</td>\n",
       "      <td>0.000000</td>\n",
       "    </tr>\n",
       "    <tr>\n",
       "      <th>3</th>\n",
       "      <td>100006</td>\n",
       "      <td>0</td>\n",
       "      <td>Cash loans</td>\n",
       "      <td>F</td>\n",
       "      <td>N</td>\n",
       "      <td>Y</td>\n",
       "      <td>0</td>\n",
       "      <td>135000.0</td>\n",
       "      <td>312682.5</td>\n",
       "      <td>29686.5</td>\n",
       "      <td>297000.0</td>\n",
       "      <td>Unaccompanied</td>\n",
       "      <td>Working</td>\n",
       "      <td>Secondary / secondary special</td>\n",
       "      <td>Civil marriage</td>\n",
       "      <td>House / apartment</td>\n",
       "      <td>0.008019</td>\n",
       "      <td>19005</td>\n",
       "      <td>3039</td>\n",
       "      <td>9833.0</td>\n",
       "      <td>2437</td>\n",
       "      <td>Laborers</td>\n",
       "      <td>2</td>\n",
       "      <td>WEDNESDAY</td>\n",
       "      <td>17</td>\n",
       "      <td>0</td>\n",
       "      <td>0</td>\n",
       "      <td>0</td>\n",
       "      <td>0</td>\n",
       "      <td>0</td>\n",
       "      <td>0</td>\n",
       "      <td>Business Entity Type 3</td>\n",
       "      <td>2.0</td>\n",
       "      <td>0.0</td>\n",
       "      <td>2.0</td>\n",
       "      <td>0.0</td>\n",
       "      <td>0.006588</td>\n",
       "      <td>0.006977</td>\n",
       "      <td>0.034071</td>\n",
       "      <td>0.282005</td>\n",
       "      <td>0.0</td>\n",
       "      <td>1.856281</td>\n",
       "    </tr>\n",
       "    <tr>\n",
       "      <th>4</th>\n",
       "      <td>100007</td>\n",
       "      <td>0</td>\n",
       "      <td>Cash loans</td>\n",
       "      <td>M</td>\n",
       "      <td>N</td>\n",
       "      <td>Y</td>\n",
       "      <td>0</td>\n",
       "      <td>121500.0</td>\n",
       "      <td>513000.0</td>\n",
       "      <td>21865.5</td>\n",
       "      <td>513000.0</td>\n",
       "      <td>Unaccompanied</td>\n",
       "      <td>Working</td>\n",
       "      <td>Secondary / secondary special</td>\n",
       "      <td>Single / not married</td>\n",
       "      <td>House / apartment</td>\n",
       "      <td>0.028663</td>\n",
       "      <td>19932</td>\n",
       "      <td>3038</td>\n",
       "      <td>4311.0</td>\n",
       "      <td>3458</td>\n",
       "      <td>Core staff</td>\n",
       "      <td>1</td>\n",
       "      <td>THURSDAY</td>\n",
       "      <td>11</td>\n",
       "      <td>0</td>\n",
       "      <td>0</td>\n",
       "      <td>0</td>\n",
       "      <td>0</td>\n",
       "      <td>1</td>\n",
       "      <td>1</td>\n",
       "      <td>Religion</td>\n",
       "      <td>0.0</td>\n",
       "      <td>0.0</td>\n",
       "      <td>0.0</td>\n",
       "      <td>0.0</td>\n",
       "      <td>0.000000</td>\n",
       "      <td>0.000000</td>\n",
       "      <td>0.000000</td>\n",
       "      <td>0.000000</td>\n",
       "      <td>0.0</td>\n",
       "      <td>0.000000</td>\n",
       "    </tr>\n",
       "  </tbody>\n",
       "</table>\n",
       "</div>"
      ],
      "text/plain": [
       "   SK_ID_CURR  TARGET NAME_CONTRACT_TYPE CODE_GENDER FLAG_OWN_CAR  \\\n",
       "0      100002       1         Cash loans           M            N   \n",
       "1      100003       0         Cash loans           F            N   \n",
       "2      100004       0    Revolving loans           M            Y   \n",
       "3      100006       0         Cash loans           F            N   \n",
       "4      100007       0         Cash loans           M            N   \n",
       "\n",
       "  FLAG_OWN_REALTY  CNT_CHILDREN  AMT_INCOME_TOTAL  AMT_CREDIT  AMT_ANNUITY  \\\n",
       "0               Y             0          202500.0    406597.5      24700.5   \n",
       "1               N             0          270000.0   1293502.5      35698.5   \n",
       "2               Y             0           67500.0    135000.0       6750.0   \n",
       "3               Y             0          135000.0    312682.5      29686.5   \n",
       "4               Y             0          121500.0    513000.0      21865.5   \n",
       "\n",
       "   AMT_GOODS_PRICE NAME_TYPE_SUITE NAME_INCOME_TYPE  \\\n",
       "0         351000.0   Unaccompanied          Working   \n",
       "1        1129500.0          Family    State servant   \n",
       "2         135000.0   Unaccompanied          Working   \n",
       "3         297000.0   Unaccompanied          Working   \n",
       "4         513000.0   Unaccompanied          Working   \n",
       "\n",
       "             NAME_EDUCATION_TYPE    NAME_FAMILY_STATUS  NAME_HOUSING_TYPE  \\\n",
       "0  Secondary / secondary special  Single / not married  House / apartment   \n",
       "1               Higher education               Married  House / apartment   \n",
       "2  Secondary / secondary special  Single / not married  House / apartment   \n",
       "3  Secondary / secondary special        Civil marriage  House / apartment   \n",
       "4  Secondary / secondary special  Single / not married  House / apartment   \n",
       "\n",
       "   REGION_POPULATION_RELATIVE  DAYS_BIRTH  DAYS_EMPLOYED  DAYS_REGISTRATION  \\\n",
       "0                    0.018801        9461            637             3648.0   \n",
       "1                    0.003541       16765           1188             1186.0   \n",
       "2                    0.010032       19046            225             4260.0   \n",
       "3                    0.008019       19005           3039             9833.0   \n",
       "4                    0.028663       19932           3038             4311.0   \n",
       "\n",
       "   DAYS_ID_PUBLISH OCCUPATION_TYPE  CNT_FAM_MEMBERS  \\\n",
       "0             2120        Laborers                1   \n",
       "1              291      Core staff                2   \n",
       "2             2531        Laborers                1   \n",
       "3             2437        Laborers                2   \n",
       "4             3458      Core staff                1   \n",
       "\n",
       "  WEEKDAY_APPR_PROCESS_START  HOUR_APPR_PROCESS_START  \\\n",
       "0                  WEDNESDAY                       10   \n",
       "1                     MONDAY                       11   \n",
       "2                     MONDAY                        9   \n",
       "3                  WEDNESDAY                       17   \n",
       "4                   THURSDAY                       11   \n",
       "\n",
       "   REG_REGION_NOT_LIVE_REGION  REG_REGION_NOT_WORK_REGION  \\\n",
       "0                           0                           0   \n",
       "1                           0                           0   \n",
       "2                           0                           0   \n",
       "3                           0                           0   \n",
       "4                           0                           0   \n",
       "\n",
       "   LIVE_REGION_NOT_WORK_REGION  REG_CITY_NOT_LIVE_CITY  \\\n",
       "0                            0                       0   \n",
       "1                            0                       0   \n",
       "2                            0                       0   \n",
       "3                            0                       0   \n",
       "4                            0                       0   \n",
       "\n",
       "   REG_CITY_NOT_WORK_CITY  LIVE_CITY_NOT_WORK_CITY       ORGANIZATION_TYPE  \\\n",
       "0                       0                        0  Business Entity Type 3   \n",
       "1                       0                        0                  School   \n",
       "2                       0                        0              Government   \n",
       "3                       0                        0  Business Entity Type 3   \n",
       "4                       1                        1                Religion   \n",
       "\n",
       "   OBS_30_CNT_SOCIAL_CIRCLE  DEF_30_CNT_SOCIAL_CIRCLE  \\\n",
       "0                       2.0                       2.0   \n",
       "1                       1.0                       0.0   \n",
       "2                       0.0                       0.0   \n",
       "3                       2.0                       0.0   \n",
       "4                       0.0                       0.0   \n",
       "\n",
       "   OBS_60_CNT_SOCIAL_CIRCLE  DEF_60_CNT_SOCIAL_CIRCLE  \\\n",
       "0                       2.0                       2.0   \n",
       "1                       1.0                       0.0   \n",
       "2                       0.0                       0.0   \n",
       "3                       2.0                       0.0   \n",
       "4                       0.0                       0.0   \n",
       "\n",
       "   AMT_REQ_CREDIT_BUREAU_HOUR  AMT_REQ_CREDIT_BUREAU_DAY  \\\n",
       "0                    0.000000                   0.000000   \n",
       "1                    0.000000                   0.000000   \n",
       "2                    0.000000                   0.000000   \n",
       "3                    0.006588                   0.006977   \n",
       "4                    0.000000                   0.000000   \n",
       "\n",
       "   AMT_REQ_CREDIT_BUREAU_WEEK  AMT_REQ_CREDIT_BUREAU_MON  \\\n",
       "0                    0.000000                   0.000000   \n",
       "1                    0.000000                   0.000000   \n",
       "2                    0.000000                   0.000000   \n",
       "3                    0.034071                   0.282005   \n",
       "4                    0.000000                   0.000000   \n",
       "\n",
       "   AMT_REQ_CREDIT_BUREAU_QRT  AMT_REQ_CREDIT_BUREAU_YEAR  \n",
       "0                        0.0                    1.000000  \n",
       "1                        0.0                    0.000000  \n",
       "2                        0.0                    0.000000  \n",
       "3                        0.0                    1.856281  \n",
       "4                        0.0                    0.000000  "
      ]
     },
     "execution_count": 72,
     "metadata": {},
     "output_type": "execute_result"
    }
   ],
   "source": [
    "inp0.head()"
   ]
  },
  {
   "cell_type": "code",
   "execution_count": 73,
   "id": "471ef38d",
   "metadata": {},
   "outputs": [
    {
     "data": {
      "text/html": [
       "<div>\n",
       "<style scoped>\n",
       "    .dataframe tbody tr th:only-of-type {\n",
       "        vertical-align: middle;\n",
       "    }\n",
       "\n",
       "    .dataframe tbody tr th {\n",
       "        vertical-align: top;\n",
       "    }\n",
       "\n",
       "    .dataframe thead th {\n",
       "        text-align: right;\n",
       "    }\n",
       "</style>\n",
       "<table border=\"1\" class=\"dataframe\">\n",
       "  <thead>\n",
       "    <tr style=\"text-align: right;\">\n",
       "      <th></th>\n",
       "      <th>Age</th>\n",
       "    </tr>\n",
       "  </thead>\n",
       "  <tbody>\n",
       "    <tr>\n",
       "      <th>count</th>\n",
       "      <td>252135.000000</td>\n",
       "    </tr>\n",
       "    <tr>\n",
       "      <th>mean</th>\n",
       "      <td>39.934821</td>\n",
       "    </tr>\n",
       "    <tr>\n",
       "      <th>std</th>\n",
       "      <td>10.025805</td>\n",
       "    </tr>\n",
       "    <tr>\n",
       "      <th>min</th>\n",
       "      <td>20.000000</td>\n",
       "    </tr>\n",
       "    <tr>\n",
       "      <th>25%</th>\n",
       "      <td>32.000000</td>\n",
       "    </tr>\n",
       "    <tr>\n",
       "      <th>50%</th>\n",
       "      <td>39.000000</td>\n",
       "    </tr>\n",
       "    <tr>\n",
       "      <th>75%</th>\n",
       "      <td>48.000000</td>\n",
       "    </tr>\n",
       "    <tr>\n",
       "      <th>max</th>\n",
       "      <td>68.000000</td>\n",
       "    </tr>\n",
       "  </tbody>\n",
       "</table>\n",
       "</div>"
      ],
      "text/plain": [
       "                 Age\n",
       "count  252135.000000\n",
       "mean       39.934821\n",
       "std        10.025805\n",
       "min        20.000000\n",
       "25%        32.000000\n",
       "50%        39.000000\n",
       "75%        48.000000\n",
       "max        68.000000"
      ]
     },
     "execution_count": 73,
     "metadata": {},
     "output_type": "execute_result"
    }
   ],
   "source": [
    "#Column: DAYS_BIRTH converting to age\n",
    "\n",
    "inp0[\"Age\"] = inp0.DAYS_BIRTH//(365.25) \n",
    "inp0[[\"Age\"]].describe()"
   ]
  },
  {
   "cell_type": "code",
   "execution_count": 74,
   "id": "753a7963",
   "metadata": {},
   "outputs": [],
   "source": [
    "# Previous column \"DAYS_BIRTH\" drop as new column \"Age\" will be used for analysis:\n",
    "\n",
    "inp0.drop(\"DAYS_BIRTH\", inplace=True, axis=1)"
   ]
  },
  {
   "cell_type": "code",
   "execution_count": 75,
   "id": "a4e70218",
   "metadata": {},
   "outputs": [
    {
     "data": {
      "text/html": [
       "<div>\n",
       "<style scoped>\n",
       "    .dataframe tbody tr th:only-of-type {\n",
       "        vertical-align: middle;\n",
       "    }\n",
       "\n",
       "    .dataframe tbody tr th {\n",
       "        vertical-align: top;\n",
       "    }\n",
       "\n",
       "    .dataframe thead th {\n",
       "        text-align: right;\n",
       "    }\n",
       "</style>\n",
       "<table border=\"1\" class=\"dataframe\">\n",
       "  <thead>\n",
       "    <tr style=\"text-align: right;\">\n",
       "      <th></th>\n",
       "      <th>SK_ID_CURR</th>\n",
       "      <th>TARGET</th>\n",
       "      <th>NAME_CONTRACT_TYPE</th>\n",
       "      <th>CODE_GENDER</th>\n",
       "      <th>FLAG_OWN_CAR</th>\n",
       "      <th>FLAG_OWN_REALTY</th>\n",
       "      <th>CNT_CHILDREN</th>\n",
       "      <th>AMT_INCOME_TOTAL</th>\n",
       "      <th>AMT_CREDIT</th>\n",
       "      <th>AMT_ANNUITY</th>\n",
       "      <th>AMT_GOODS_PRICE</th>\n",
       "      <th>NAME_TYPE_SUITE</th>\n",
       "      <th>NAME_INCOME_TYPE</th>\n",
       "      <th>NAME_EDUCATION_TYPE</th>\n",
       "      <th>NAME_FAMILY_STATUS</th>\n",
       "      <th>NAME_HOUSING_TYPE</th>\n",
       "      <th>REGION_POPULATION_RELATIVE</th>\n",
       "      <th>DAYS_EMPLOYED</th>\n",
       "      <th>DAYS_REGISTRATION</th>\n",
       "      <th>DAYS_ID_PUBLISH</th>\n",
       "      <th>OCCUPATION_TYPE</th>\n",
       "      <th>CNT_FAM_MEMBERS</th>\n",
       "      <th>WEEKDAY_APPR_PROCESS_START</th>\n",
       "      <th>HOUR_APPR_PROCESS_START</th>\n",
       "      <th>REG_REGION_NOT_LIVE_REGION</th>\n",
       "      <th>REG_REGION_NOT_WORK_REGION</th>\n",
       "      <th>LIVE_REGION_NOT_WORK_REGION</th>\n",
       "      <th>REG_CITY_NOT_LIVE_CITY</th>\n",
       "      <th>REG_CITY_NOT_WORK_CITY</th>\n",
       "      <th>LIVE_CITY_NOT_WORK_CITY</th>\n",
       "      <th>ORGANIZATION_TYPE</th>\n",
       "      <th>OBS_30_CNT_SOCIAL_CIRCLE</th>\n",
       "      <th>DEF_30_CNT_SOCIAL_CIRCLE</th>\n",
       "      <th>OBS_60_CNT_SOCIAL_CIRCLE</th>\n",
       "      <th>DEF_60_CNT_SOCIAL_CIRCLE</th>\n",
       "      <th>AMT_REQ_CREDIT_BUREAU_HOUR</th>\n",
       "      <th>AMT_REQ_CREDIT_BUREAU_DAY</th>\n",
       "      <th>AMT_REQ_CREDIT_BUREAU_WEEK</th>\n",
       "      <th>AMT_REQ_CREDIT_BUREAU_MON</th>\n",
       "      <th>AMT_REQ_CREDIT_BUREAU_QRT</th>\n",
       "      <th>AMT_REQ_CREDIT_BUREAU_YEAR</th>\n",
       "      <th>Age</th>\n",
       "    </tr>\n",
       "  </thead>\n",
       "  <tbody>\n",
       "    <tr>\n",
       "      <th>0</th>\n",
       "      <td>100002</td>\n",
       "      <td>1</td>\n",
       "      <td>Cash loans</td>\n",
       "      <td>M</td>\n",
       "      <td>N</td>\n",
       "      <td>Y</td>\n",
       "      <td>0</td>\n",
       "      <td>202500.0</td>\n",
       "      <td>406597.5</td>\n",
       "      <td>24700.5</td>\n",
       "      <td>351000.0</td>\n",
       "      <td>Unaccompanied</td>\n",
       "      <td>Working</td>\n",
       "      <td>Secondary / secondary special</td>\n",
       "      <td>Single / not married</td>\n",
       "      <td>House / apartment</td>\n",
       "      <td>0.018801</td>\n",
       "      <td>637</td>\n",
       "      <td>3648.0</td>\n",
       "      <td>2120</td>\n",
       "      <td>Laborers</td>\n",
       "      <td>1</td>\n",
       "      <td>WEDNESDAY</td>\n",
       "      <td>10</td>\n",
       "      <td>0</td>\n",
       "      <td>0</td>\n",
       "      <td>0</td>\n",
       "      <td>0</td>\n",
       "      <td>0</td>\n",
       "      <td>0</td>\n",
       "      <td>Business Entity Type 3</td>\n",
       "      <td>2.0</td>\n",
       "      <td>2.0</td>\n",
       "      <td>2.0</td>\n",
       "      <td>2.0</td>\n",
       "      <td>0.000000</td>\n",
       "      <td>0.000000</td>\n",
       "      <td>0.000000</td>\n",
       "      <td>0.000000</td>\n",
       "      <td>0.0</td>\n",
       "      <td>1.000000</td>\n",
       "      <td>25</td>\n",
       "    </tr>\n",
       "    <tr>\n",
       "      <th>1</th>\n",
       "      <td>100003</td>\n",
       "      <td>0</td>\n",
       "      <td>Cash loans</td>\n",
       "      <td>F</td>\n",
       "      <td>N</td>\n",
       "      <td>N</td>\n",
       "      <td>0</td>\n",
       "      <td>270000.0</td>\n",
       "      <td>1293502.5</td>\n",
       "      <td>35698.5</td>\n",
       "      <td>1129500.0</td>\n",
       "      <td>Family</td>\n",
       "      <td>State servant</td>\n",
       "      <td>Higher education</td>\n",
       "      <td>Married</td>\n",
       "      <td>House / apartment</td>\n",
       "      <td>0.003541</td>\n",
       "      <td>1188</td>\n",
       "      <td>1186.0</td>\n",
       "      <td>291</td>\n",
       "      <td>Core staff</td>\n",
       "      <td>2</td>\n",
       "      <td>MONDAY</td>\n",
       "      <td>11</td>\n",
       "      <td>0</td>\n",
       "      <td>0</td>\n",
       "      <td>0</td>\n",
       "      <td>0</td>\n",
       "      <td>0</td>\n",
       "      <td>0</td>\n",
       "      <td>School</td>\n",
       "      <td>1.0</td>\n",
       "      <td>0.0</td>\n",
       "      <td>1.0</td>\n",
       "      <td>0.0</td>\n",
       "      <td>0.000000</td>\n",
       "      <td>0.000000</td>\n",
       "      <td>0.000000</td>\n",
       "      <td>0.000000</td>\n",
       "      <td>0.0</td>\n",
       "      <td>0.000000</td>\n",
       "      <td>45</td>\n",
       "    </tr>\n",
       "    <tr>\n",
       "      <th>2</th>\n",
       "      <td>100004</td>\n",
       "      <td>0</td>\n",
       "      <td>Revolving loans</td>\n",
       "      <td>M</td>\n",
       "      <td>Y</td>\n",
       "      <td>Y</td>\n",
       "      <td>0</td>\n",
       "      <td>67500.0</td>\n",
       "      <td>135000.0</td>\n",
       "      <td>6750.0</td>\n",
       "      <td>135000.0</td>\n",
       "      <td>Unaccompanied</td>\n",
       "      <td>Working</td>\n",
       "      <td>Secondary / secondary special</td>\n",
       "      <td>Single / not married</td>\n",
       "      <td>House / apartment</td>\n",
       "      <td>0.010032</td>\n",
       "      <td>225</td>\n",
       "      <td>4260.0</td>\n",
       "      <td>2531</td>\n",
       "      <td>Laborers</td>\n",
       "      <td>1</td>\n",
       "      <td>MONDAY</td>\n",
       "      <td>9</td>\n",
       "      <td>0</td>\n",
       "      <td>0</td>\n",
       "      <td>0</td>\n",
       "      <td>0</td>\n",
       "      <td>0</td>\n",
       "      <td>0</td>\n",
       "      <td>Government</td>\n",
       "      <td>0.0</td>\n",
       "      <td>0.0</td>\n",
       "      <td>0.0</td>\n",
       "      <td>0.0</td>\n",
       "      <td>0.000000</td>\n",
       "      <td>0.000000</td>\n",
       "      <td>0.000000</td>\n",
       "      <td>0.000000</td>\n",
       "      <td>0.0</td>\n",
       "      <td>0.000000</td>\n",
       "      <td>52</td>\n",
       "    </tr>\n",
       "    <tr>\n",
       "      <th>3</th>\n",
       "      <td>100006</td>\n",
       "      <td>0</td>\n",
       "      <td>Cash loans</td>\n",
       "      <td>F</td>\n",
       "      <td>N</td>\n",
       "      <td>Y</td>\n",
       "      <td>0</td>\n",
       "      <td>135000.0</td>\n",
       "      <td>312682.5</td>\n",
       "      <td>29686.5</td>\n",
       "      <td>297000.0</td>\n",
       "      <td>Unaccompanied</td>\n",
       "      <td>Working</td>\n",
       "      <td>Secondary / secondary special</td>\n",
       "      <td>Civil marriage</td>\n",
       "      <td>House / apartment</td>\n",
       "      <td>0.008019</td>\n",
       "      <td>3039</td>\n",
       "      <td>9833.0</td>\n",
       "      <td>2437</td>\n",
       "      <td>Laborers</td>\n",
       "      <td>2</td>\n",
       "      <td>WEDNESDAY</td>\n",
       "      <td>17</td>\n",
       "      <td>0</td>\n",
       "      <td>0</td>\n",
       "      <td>0</td>\n",
       "      <td>0</td>\n",
       "      <td>0</td>\n",
       "      <td>0</td>\n",
       "      <td>Business Entity Type 3</td>\n",
       "      <td>2.0</td>\n",
       "      <td>0.0</td>\n",
       "      <td>2.0</td>\n",
       "      <td>0.0</td>\n",
       "      <td>0.006588</td>\n",
       "      <td>0.006977</td>\n",
       "      <td>0.034071</td>\n",
       "      <td>0.282005</td>\n",
       "      <td>0.0</td>\n",
       "      <td>1.856281</td>\n",
       "      <td>52</td>\n",
       "    </tr>\n",
       "    <tr>\n",
       "      <th>4</th>\n",
       "      <td>100007</td>\n",
       "      <td>0</td>\n",
       "      <td>Cash loans</td>\n",
       "      <td>M</td>\n",
       "      <td>N</td>\n",
       "      <td>Y</td>\n",
       "      <td>0</td>\n",
       "      <td>121500.0</td>\n",
       "      <td>513000.0</td>\n",
       "      <td>21865.5</td>\n",
       "      <td>513000.0</td>\n",
       "      <td>Unaccompanied</td>\n",
       "      <td>Working</td>\n",
       "      <td>Secondary / secondary special</td>\n",
       "      <td>Single / not married</td>\n",
       "      <td>House / apartment</td>\n",
       "      <td>0.028663</td>\n",
       "      <td>3038</td>\n",
       "      <td>4311.0</td>\n",
       "      <td>3458</td>\n",
       "      <td>Core staff</td>\n",
       "      <td>1</td>\n",
       "      <td>THURSDAY</td>\n",
       "      <td>11</td>\n",
       "      <td>0</td>\n",
       "      <td>0</td>\n",
       "      <td>0</td>\n",
       "      <td>0</td>\n",
       "      <td>1</td>\n",
       "      <td>1</td>\n",
       "      <td>Religion</td>\n",
       "      <td>0.0</td>\n",
       "      <td>0.0</td>\n",
       "      <td>0.0</td>\n",
       "      <td>0.0</td>\n",
       "      <td>0.000000</td>\n",
       "      <td>0.000000</td>\n",
       "      <td>0.000000</td>\n",
       "      <td>0.000000</td>\n",
       "      <td>0.0</td>\n",
       "      <td>0.000000</td>\n",
       "      <td>54</td>\n",
       "    </tr>\n",
       "  </tbody>\n",
       "</table>\n",
       "</div>"
      ],
      "text/plain": [
       "   SK_ID_CURR  TARGET NAME_CONTRACT_TYPE CODE_GENDER FLAG_OWN_CAR  \\\n",
       "0      100002       1         Cash loans           M            N   \n",
       "1      100003       0         Cash loans           F            N   \n",
       "2      100004       0    Revolving loans           M            Y   \n",
       "3      100006       0         Cash loans           F            N   \n",
       "4      100007       0         Cash loans           M            N   \n",
       "\n",
       "  FLAG_OWN_REALTY  CNT_CHILDREN  AMT_INCOME_TOTAL  AMT_CREDIT  AMT_ANNUITY  \\\n",
       "0               Y             0          202500.0    406597.5      24700.5   \n",
       "1               N             0          270000.0   1293502.5      35698.5   \n",
       "2               Y             0           67500.0    135000.0       6750.0   \n",
       "3               Y             0          135000.0    312682.5      29686.5   \n",
       "4               Y             0          121500.0    513000.0      21865.5   \n",
       "\n",
       "   AMT_GOODS_PRICE NAME_TYPE_SUITE NAME_INCOME_TYPE  \\\n",
       "0         351000.0   Unaccompanied          Working   \n",
       "1        1129500.0          Family    State servant   \n",
       "2         135000.0   Unaccompanied          Working   \n",
       "3         297000.0   Unaccompanied          Working   \n",
       "4         513000.0   Unaccompanied          Working   \n",
       "\n",
       "             NAME_EDUCATION_TYPE    NAME_FAMILY_STATUS  NAME_HOUSING_TYPE  \\\n",
       "0  Secondary / secondary special  Single / not married  House / apartment   \n",
       "1               Higher education               Married  House / apartment   \n",
       "2  Secondary / secondary special  Single / not married  House / apartment   \n",
       "3  Secondary / secondary special        Civil marriage  House / apartment   \n",
       "4  Secondary / secondary special  Single / not married  House / apartment   \n",
       "\n",
       "   REGION_POPULATION_RELATIVE  DAYS_EMPLOYED  DAYS_REGISTRATION  \\\n",
       "0                    0.018801            637             3648.0   \n",
       "1                    0.003541           1188             1186.0   \n",
       "2                    0.010032            225             4260.0   \n",
       "3                    0.008019           3039             9833.0   \n",
       "4                    0.028663           3038             4311.0   \n",
       "\n",
       "   DAYS_ID_PUBLISH OCCUPATION_TYPE  CNT_FAM_MEMBERS  \\\n",
       "0             2120        Laborers                1   \n",
       "1              291      Core staff                2   \n",
       "2             2531        Laborers                1   \n",
       "3             2437        Laborers                2   \n",
       "4             3458      Core staff                1   \n",
       "\n",
       "  WEEKDAY_APPR_PROCESS_START  HOUR_APPR_PROCESS_START  \\\n",
       "0                  WEDNESDAY                       10   \n",
       "1                     MONDAY                       11   \n",
       "2                     MONDAY                        9   \n",
       "3                  WEDNESDAY                       17   \n",
       "4                   THURSDAY                       11   \n",
       "\n",
       "   REG_REGION_NOT_LIVE_REGION  REG_REGION_NOT_WORK_REGION  \\\n",
       "0                           0                           0   \n",
       "1                           0                           0   \n",
       "2                           0                           0   \n",
       "3                           0                           0   \n",
       "4                           0                           0   \n",
       "\n",
       "   LIVE_REGION_NOT_WORK_REGION  REG_CITY_NOT_LIVE_CITY  \\\n",
       "0                            0                       0   \n",
       "1                            0                       0   \n",
       "2                            0                       0   \n",
       "3                            0                       0   \n",
       "4                            0                       0   \n",
       "\n",
       "   REG_CITY_NOT_WORK_CITY  LIVE_CITY_NOT_WORK_CITY       ORGANIZATION_TYPE  \\\n",
       "0                       0                        0  Business Entity Type 3   \n",
       "1                       0                        0                  School   \n",
       "2                       0                        0              Government   \n",
       "3                       0                        0  Business Entity Type 3   \n",
       "4                       1                        1                Religion   \n",
       "\n",
       "   OBS_30_CNT_SOCIAL_CIRCLE  DEF_30_CNT_SOCIAL_CIRCLE  \\\n",
       "0                       2.0                       2.0   \n",
       "1                       1.0                       0.0   \n",
       "2                       0.0                       0.0   \n",
       "3                       2.0                       0.0   \n",
       "4                       0.0                       0.0   \n",
       "\n",
       "   OBS_60_CNT_SOCIAL_CIRCLE  DEF_60_CNT_SOCIAL_CIRCLE  \\\n",
       "0                       2.0                       2.0   \n",
       "1                       1.0                       0.0   \n",
       "2                       0.0                       0.0   \n",
       "3                       2.0                       0.0   \n",
       "4                       0.0                       0.0   \n",
       "\n",
       "   AMT_REQ_CREDIT_BUREAU_HOUR  AMT_REQ_CREDIT_BUREAU_DAY  \\\n",
       "0                    0.000000                   0.000000   \n",
       "1                    0.000000                   0.000000   \n",
       "2                    0.000000                   0.000000   \n",
       "3                    0.006588                   0.006977   \n",
       "4                    0.000000                   0.000000   \n",
       "\n",
       "   AMT_REQ_CREDIT_BUREAU_WEEK  AMT_REQ_CREDIT_BUREAU_MON  \\\n",
       "0                    0.000000                   0.000000   \n",
       "1                    0.000000                   0.000000   \n",
       "2                    0.000000                   0.000000   \n",
       "3                    0.034071                   0.282005   \n",
       "4                    0.000000                   0.000000   \n",
       "\n",
       "   AMT_REQ_CREDIT_BUREAU_QRT  AMT_REQ_CREDIT_BUREAU_YEAR  Age  \n",
       "0                        0.0                    1.000000   25  \n",
       "1                        0.0                    0.000000   45  \n",
       "2                        0.0                    0.000000   52  \n",
       "3                        0.0                    1.856281   52  \n",
       "4                        0.0                    0.000000   54  "
      ]
     },
     "execution_count": 75,
     "metadata": {},
     "output_type": "execute_result"
    }
   ],
   "source": [
    "inp0.head()"
   ]
  },
  {
   "cell_type": "markdown",
   "id": "3df14c37",
   "metadata": {},
   "source": [
    "### Analysing Data Imbalance Ratio"
   ]
  },
  {
   "cell_type": "code",
   "execution_count": 76,
   "id": "7a63e40f",
   "metadata": {},
   "outputs": [],
   "source": [
    "# Dividing the dataset into sub-datasets of  default=1 (client with payment difficulties or defaulters) and non-default=0 (all other cases or Non-Defaulters)\n",
    "\n",
    "non_default= inp0[inp0[\"TARGET\"]==0]\n",
    "default = inp0[inp0[\"TARGET\"]==1]"
   ]
  },
  {
   "cell_type": "code",
   "execution_count": 77,
   "id": "c8a2a072",
   "metadata": {},
   "outputs": [
    {
     "name": "stdout",
     "output_type": "stream",
     "text": [
      "No. of defaulters: 21835\n",
      "No. of non-defaulters: 230300\n"
     ]
    }
   ],
   "source": [
    "print(\"No. of defaulters:\",default.shape[0])\n",
    "print(\"No. of non-defaulters:\",non_default.shape[0])"
   ]
  },
  {
   "cell_type": "code",
   "execution_count": 78,
   "id": "7431939f",
   "metadata": {},
   "outputs": [
    {
     "data": {
      "text/plain": [
       "10.55"
      ]
     },
     "execution_count": 78,
     "metadata": {},
     "output_type": "execute_result"
    }
   ],
   "source": [
    "# Calculating imbalance ratio,the majority is non_defaulters and minority is defaulters:\n",
    "round(len(non_default)/len(default),2)"
   ]
  },
  {
   "cell_type": "markdown",
   "id": "76bfe826",
   "metadata": {},
   "source": [
    "### Inference : \n",
    "This data is highly imbalanced as number of defaulter is very less in total population. Data Imbalance Ratio 10.55"
   ]
  },
  {
   "cell_type": "markdown",
   "id": "7841643d",
   "metadata": {},
   "source": [
    "## Univariate analysis for categories:"
   ]
  },
  {
   "cell_type": "markdown",
   "id": "d92336e1",
   "metadata": {},
   "source": [
    "### Matrixing:\n",
    "### I.Creating bins for AMT_Credit(Credit amount): \n",
    "### II.Creating bins for AMT_INCOME_TOTAL(income amount):"
   ]
  },
  {
   "cell_type": "code",
   "execution_count": 79,
   "id": "139efb98",
   "metadata": {},
   "outputs": [],
   "source": [
    "#I.Creating bins for AMT_Credit(Credit amount):\n",
    "bins=[0,150000,200000,250000,300000,350000,400000,450000,500000,550000,600000,650000,700000,750000,800000,850000,900000,10000000]\n",
    "slots=[\"0-150000\",\"150000-200000\",\"200000-250000\",\"250000-300000\",\"300000-350000\",\"350000-400000\",\"400000-450000\",\"450000-500000\",\"500000-550000\",\"550000-600000\",\"600000-650000\",\"650000-700000\",\"700000-750000\",\"750000-800000\",\"800000-850000\",\"850000-900000\",\"900000 and above\"]\n",
    "inp0[\"AMT_Credit_Range\"]=pd.cut(inp0[\"AMT_CREDIT\"],bins=bins,labels=slots)"
   ]
  },
  {
   "cell_type": "code",
   "execution_count": 80,
   "id": "581c7e34",
   "metadata": {},
   "outputs": [],
   "source": [
    "#II.Creating bins for AMT_INCOME_TOTAL(income amount):\n",
    "bins=[0,30000,60000,90000,120000,150000,180000,210000,240000,270000,300000,330000,360000,390000,420000,450000,480000,510000,540000,10000000]\n",
    "slots=[\"0-30000\",\"30000-60000\",\"60000-90000\",\"90000-120000\",\"120000-150000\",\"150000-180000\",\"180000-210000\",\"210000-240000\",\"240000-270000\",\"270000-300000\",\"300000-330000\",\"330000-360000\",\"360000-390000\",\"390000-420000\",\"420000-450000\",\"450000-480000\",\"480000-510000\",\"510000-540000\",\"540000 and above\"]\n",
    "inp0[\"AMT_INCOME_RANGE\"]=pd.cut(inp0[\"AMT_INCOME_TOTAL\"],bins=bins,labels=slots)"
   ]
  },
  {
   "cell_type": "code",
   "execution_count": 81,
   "id": "a51959cb",
   "metadata": {},
   "outputs": [],
   "source": [
    "# Deviding the dataset into two sub-dataset of  target=1(client with payment difficulties) and target=0(all other)\n",
    "target_0=inp0.loc[inp0[\"TARGET\"]==0]\n",
    "target_1=inp0.loc[inp0[\"TARGET\"]==1]"
   ]
  },
  {
   "cell_type": "markdown",
   "id": "3b273ca2",
   "metadata": {},
   "source": [
    "#### UNIVARIANT ANALYSIS OF CATEGORICAL VARIABLES FOR target=0(all other)"
   ]
  },
  {
   "cell_type": "code",
   "execution_count": 82,
   "id": "a5972481",
   "metadata": {},
   "outputs": [
    {
     "data": {
      "text/plain": [
       "<Figure size 432x288 with 0 Axes>"
      ]
     },
     "metadata": {},
     "output_type": "display_data"
    },
    {
     "data": {
      "image/png": "[encoded data removed]",
      "text/plain": [
       "<Figure size 720x504 with 1 Axes>"
      ]
     },
     "metadata": {
      "needs_background": "light"
     },
     "output_type": "display_data"
    }
   ],
   "source": [
    "# I.Plotting for Income amount:\n",
    "plt.figure()\n",
    "fig, ax = plt.subplots(figsize=(10,7))\n",
    "sns.countplot(target_0[\"AMT_INCOME_RANGE\"], hue=target_0[\"CODE_GENDER\"]\n",
    ",palette=\"magma\").set_yscale(\"log\") \n",
    "plt.xticks(rotation=90)\n",
    "plt.title(\"Income Range Distribution\")\n",
    "plt.show()"
   ]
  },
  {
   "cell_type": "markdown",
   "id": "d4aa939a",
   "metadata": {},
   "source": [
    "### Inference from Income Range Distribution gra\n",
    "1.Female counts higher than male count.                                                                                          2.This graph show that females are more than male for higher income range                                                       \n",
    "3.Income range from 150000 to 180000 is having more number of credits.  \n",
    "4.Very less count for income range 450000 and above."
   ]
  },
  {
   "cell_type": "code",
   "execution_count": 83,
   "id": "4b9f400b",
   "metadata": {},
   "outputs": [
    {
     "data": {
      "image/png": "[encoded data removed]",
      "text/plain": [
       "<Figure size 432x288 with 1 Axes>"
      ]
     },
     "metadata": {
      "needs_background": "light"
     },
     "output_type": "display_data"
    }
   ],
   "source": [
    "# Plotting for income type:\n",
    "plt.figure()\n",
    "sns.countplot(target_0[\"NAME_INCOME_TYPE\"], hue=target_0[\"CODE_GENDER\"]\n",
    ",palette=\"pastel\").set_yscale(\"log\") \n",
    "plt.tight_layout()\n",
    "plt.xticks(rotation=90)\n",
    "plt.title(\"Income Type Distribution\")\n",
    "plt.show()"
   ]
  },
  {
   "cell_type": "markdown",
   "id": "9916cae7",
   "metadata": {},
   "source": [
    "### Inference for income type:\n",
    "1.State servant,Working and commercial associate are having the number of credits are higher than other. 2.Females are having more number of credits than male. 3.Less number of credits for income type \"Maternity leave\"."
   ]
  },
  {
   "cell_type": "code",
   "execution_count": 84,
   "id": "f5377138",
   "metadata": {},
   "outputs": [
    {
     "data": {
      "image/png": "[encoded data removed]",
      "text/plain": [
       "<Figure size 432x288 with 1 Axes>"
      ]
     },
     "metadata": {
      "needs_background": "light"
     },
     "output_type": "display_data"
    }
   ],
   "source": [
    "# Plotting for contract type:\n",
    "plt.figure()\n",
    "sns.countplot(target_0[\"NAME_CONTRACT_TYPE\"], hue=target_0[\"CODE_GENDER\"]\n",
    ",palette=\"tab10\").set_yscale(\"log\") \n",
    "plt.tight_layout()\n",
    "plt.xticks(rotation=90)\n",
    "plt.title(\"Contract Type Distribution\")\n",
    "plt.show()"
   ]
  },
  {
   "cell_type": "markdown",
   "id": "29a72f79",
   "metadata": {},
   "source": [
    "### Inference from Contract Type Distribution:\n",
    "1.'Cash loans' contract type is having higher number of credits than ‘Revolving loans’contract type. 2.Female is leading for applying credits."
   ]
  },
  {
   "cell_type": "markdown",
   "id": "a538ae66",
   "metadata": {},
   "source": [
    "#### UNIVARIANT ANALYSIS OF CATEGORICAL VARIABLES FOR target=1(Client with payment difficulties)"
   ]
  },
  {
   "cell_type": "code",
   "execution_count": 85,
   "id": "01c06465",
   "metadata": {},
   "outputs": [
    {
     "data": {
      "text/plain": [
       "<Figure size 432x288 with 0 Axes>"
      ]
     },
     "metadata": {},
     "output_type": "display_data"
    },
    {
     "data": {
      "image/png": "[encoded data removed]",
      "text/plain": [
       "<Figure size 720x504 with 1 Axes>"
      ]
     },
     "metadata": {
      "needs_background": "light"
     },
     "output_type": "display_data"
    }
   ],
   "source": [
    "# I.Plotting for Income amount:\n",
    "plt.figure()\n",
    "fig, ax = plt.subplots(figsize=(10,7))\n",
    "sns.countplot(target_1[\"AMT_INCOME_RANGE\"], hue=target_1[\"CODE_GENDER\"]\n",
    ",palette=\"magma\") \n",
    "plt.xticks(rotation=90)\n",
    "plt.title(\"Income Range Distribution\")\n",
    "plt.show()"
   ]
  },
  {
   "cell_type": "markdown",
   "id": "7ba2c7b8",
   "metadata": {},
   "source": [
    "### Inference from Income Range Distribution graph:\n",
    "1.Male counts higher than female count. 2.This graph show that females are more than male for higher income range 3.Income range from 150000 to 180000 is having more number of credits. 4.Very less count for income range 450000 and above."
   ]
  },
  {
   "cell_type": "code",
   "execution_count": 86,
   "id": "e3a54556",
   "metadata": {},
   "outputs": [
    {
     "data": {
      "image/png": "[encoded data removed]",
      "text/plain": [
       "<Figure size 432x288 with 1 Axes>"
      ]
     },
     "metadata": {
      "needs_background": "light"
     },
     "output_type": "display_data"
    }
   ],
   "source": [
    "# Plotting for income type:\n",
    "plt.figure()\n",
    "sns.countplot(target_1[\"NAME_INCOME_TYPE\"], hue=target_1[\"CODE_GENDER\"],palette=\"pastel\").set_yscale(\"log\") \n",
    "plt.tight_layout()\n",
    "plt.xticks(rotation=90)\n",
    "plt.title(\"Income Type Distribution\")\n",
    "plt.show()"
   ]
  },
  {
   "cell_type": "markdown",
   "id": "a550fc9c",
   "metadata": {},
   "source": [
    "### Inference for income type:\n",
    "1.State servant,Working and commercial associate are having the number of credits are higher than other. 2.Females are having more number of credits than male. 3.Less number of credits for income type 'Maternity leave'. 4.No income type for ‘student’ , ’pensioner’ and ‘Businessman’ this indicates that they don’t do any late payments or they do not have payment difficulties."
   ]
  },
  {
   "cell_type": "code",
   "execution_count": 87,
   "id": "d5bcab2a",
   "metadata": {},
   "outputs": [
    {
     "data": {
      "image/png": "[encoded data removed]",
      "text/plain": [
       "<Figure size 432x288 with 1 Axes>"
      ]
     },
     "metadata": {
      "needs_background": "light"
     },
     "output_type": "display_data"
    }
   ],
   "source": [
    "# Plotting for contract type:\n",
    "plt.figure()\n",
    "sns.countplot(target_1[\"NAME_CONTRACT_TYPE\"], hue=target_1[\"CODE_GENDER\"]\n",
    ",palette=\"tab10\").set_yscale(\"log\") \n",
    "plt.tight_layout()\n",
    "plt.xticks(rotation=90)\n",
    "plt.title(\"Contract Type Distribution\")\n",
    "plt.show()"
   ]
  },
  {
   "cell_type": "markdown",
   "id": "49c8af36",
   "metadata": {},
   "source": [
    "### Inference from Contract Type Distribution:\n",
    "1.'Cash loans' contract type is having higher number of credits than ‘Revolving loans’contract type. 2.Female is leading for applying credits."
   ]
  },
  {
   "cell_type": "markdown",
   "id": "0470e61d",
   "metadata": {},
   "source": [
    "#### BIVARIANT ANALYSIS OF NUMERICAL VARIABLES FOR target=0(All others)"
   ]
  },
  {
   "cell_type": "code",
   "execution_count": 88,
   "id": "61d086ca",
   "metadata": {},
   "outputs": [
    {
     "data": {
      "image/png": "[encoded data removed]",
      "text/plain": [
       "<Figure size 1008x864 with 1 Axes>"
      ]
     },
     "metadata": {
      "needs_background": "light"
     },
     "output_type": "display_data"
    }
   ],
   "source": [
    "# Income amount Verses Education Status in different types of family of clients with no payments difficulties: \n",
    "plt.figure(figsize=(14,12))\n",
    "plt.xticks(rotation=20)\n",
    "sns.boxplot(data =target_0, x='NAME_EDUCATION_TYPE',y='AMT_INCOME_TOTAL', hue ='NAME_FAMILY_STATUS',orient='v').set_yscale(\"log\") \n",
    "plt.title('Income amount vs Education Status')\n",
    "plt.show()"
   ]
  },
  {
   "cell_type": "markdown",
   "id": "e41bdeff",
   "metadata": {},
   "source": [
    "### Inference:\n",
    "1.More outliers are present in family status of 'marriage', 'single' and 'civil marriage' with higher education                                                                                        2.Civil marriage for academic degree is having most of the credits in the third quartile."
   ]
  },
  {
   "cell_type": "code",
   "execution_count": 89,
   "id": "17f4c9ce",
   "metadata": {},
   "outputs": [
    {
     "data": {
      "image/png": "[encoded data removed]",
      "text/plain": [
       "<Figure size 1008x864 with 1 Axes>"
      ]
     },
     "metadata": {
      "needs_background": "light"
     },
     "output_type": "display_data"
    }
   ],
   "source": [
    "# amount Verses Education Status in different types of family of clients with no payments difficulties: \n",
    "plt.figure(figsize=(14,12))\n",
    "plt.xticks(rotation=20)\n",
    "sns.boxplot(data =target_0, x='NAME_EDUCATION_TYPE',y='AMT_CREDIT', hue ='NAME_FAMILY_STATUS',orient='v')\n",
    "plt.ylim(0,5000000)\n",
    "plt.title('Credit amount vs Education Status')\n",
    "plt.show()"
   ]
  },
  {
   "cell_type": "markdown",
   "id": "710ad43c",
   "metadata": {},
   "source": [
    "### Inference:\n",
    "1.'Higher education'category have income amount mostly equal with family status.Also many outliers are present . \n",
    "2.'Academic degree' is having least outliers and income amount is higher among the all.\n",
    "3.'Lower secondary' of single/not married family status are having less income amount than others."
   ]
  },
  {
   "cell_type": "markdown",
   "id": "b2ddd468",
   "metadata": {},
   "source": [
    "#### BIVARIANT ANALYSIS OF NUMERICAL VARIABLES FOR target=1(Client with payment difficulties))"
   ]
  },
  {
   "cell_type": "code",
   "execution_count": 90,
   "id": "942fdb7a",
   "metadata": {},
   "outputs": [
    {
     "data": {
      "image/png": "[encoded data removed]",
      "text/plain": [
       "<Figure size 1008x864 with 1 Axes>"
      ]
     },
     "metadata": {
      "needs_background": "light"
     },
     "output_type": "display_data"
    }
   ],
   "source": [
    "# Income amount Verses Education Status in different types of family of Client with payment difficulties)  : \n",
    "plt.figure(figsize=(14,12))\n",
    "plt.xticks(rotation=20)\n",
    "sns.boxplot(data =target_1, x='NAME_EDUCATION_TYPE',y='AMT_INCOME_TOTAL', hue ='NAME_FAMILY_STATUS',orient='v').set_yscale(\"log\") \n",
    "plt.title('Income amount vs Education Status')\n",
    "plt.show()"
   ]
  },
  {
   "cell_type": "markdown",
   "id": "c20afe64",
   "metadata": {},
   "source": [
    "### Inferences:\n",
    "1.'Higher education'and 'Secondary/Secondary special' education  categories have income amount mostly equal with family status.Also many outliers are present . \n",
    "2.Married in 'Academic degree' is having no outliers and income amount is higher among the all.\n",
    "3.'Lower secondary' of widow family status are having less income amount than others."
   ]
  },
  {
   "cell_type": "markdown",
   "id": "97a54c56",
   "metadata": {},
   "source": [
    "# DATA CLEANING OF PREVIOUS APPLICATION DATA "
   ]
  },
  {
   "cell_type": "code",
   "execution_count": 91,
   "id": "3b48b596",
   "metadata": {},
   "outputs": [
    {
     "ename": "FileNotFoundError",
     "evalue": "[Errno 2] No such file or directory: 'previous_application.csv'",
     "output_type": "error",
     "traceback": [
      "\u001b[1;31m---------------------------------------------------------------------------\u001b[0m",
      "\u001b[1;31mFileNotFoundError\u001b[0m                         Traceback (most recent call last)",
      "\u001b[1;32m<ipython-input-91-d6a41c5dd87c>\u001b[0m in \u001b[0;36m<module>\u001b[1;34m\u001b[0m\n\u001b[1;32m----> 1\u001b[1;33m \u001b[0minp1\u001b[0m\u001b[1;33m=\u001b[0m\u001b[0mpd\u001b[0m\u001b[1;33m.\u001b[0m\u001b[0mread_csv\u001b[0m\u001b[1;33m(\u001b[0m\u001b[1;34m\"previous_application.csv\"\u001b[0m\u001b[1;33m)\u001b[0m\u001b[1;33m\u001b[0m\u001b[1;33m\u001b[0m\u001b[0m\n\u001b[0m",
      "\u001b[1;32m~\\anaconda3\\lib\\site-packages\\pandas\\io\\parsers.py\u001b[0m in \u001b[0;36mread_csv\u001b[1;34m(filepath_or_buffer, sep, delimiter, header, names, index_col, usecols, squeeze, prefix, mangle_dupe_cols, dtype, engine, converters, true_values, false_values, skipinitialspace, skiprows, skipfooter, nrows, na_values, keep_default_na, na_filter, verbose, skip_blank_lines, parse_dates, infer_datetime_format, keep_date_col, date_parser, dayfirst, cache_dates, iterator, chunksize, compression, thousands, decimal, lineterminator, quotechar, quoting, doublequote, escapechar, comment, encoding, dialect, error_bad_lines, warn_bad_lines, delim_whitespace, low_memory, memory_map, float_precision, storage_options)\u001b[0m\n\u001b[0;32m    608\u001b[0m     \u001b[0mkwds\u001b[0m\u001b[1;33m.\u001b[0m\u001b[0mupdate\u001b[0m\u001b[1;33m(\u001b[0m\u001b[0mkwds_defaults\u001b[0m\u001b[1;33m)\u001b[0m\u001b[1;33m\u001b[0m\u001b[1;33m\u001b[0m\u001b[0m\n\u001b[0;32m    609\u001b[0m \u001b[1;33m\u001b[0m\u001b[0m\n\u001b[1;32m--> 610\u001b[1;33m     \u001b[1;32mreturn\u001b[0m \u001b[0m_read\u001b[0m\u001b[1;33m(\u001b[0m\u001b[0mfilepath_or_buffer\u001b[0m\u001b[1;33m,\u001b[0m \u001b[0mkwds\u001b[0m\u001b[1;33m)\u001b[0m\u001b[1;33m\u001b[0m\u001b[1;33m\u001b[0m\u001b[0m\n\u001b[0m\u001b[0;32m    611\u001b[0m \u001b[1;33m\u001b[0m\u001b[0m\n\u001b[0;32m    612\u001b[0m \u001b[1;33m\u001b[0m\u001b[0m\n",
      "\u001b[1;32m~\\anaconda3\\lib\\site-packages\\pandas\\io\\parsers.py\u001b[0m in \u001b[0;36m_read\u001b[1;34m(filepath_or_buffer, kwds)\u001b[0m\n\u001b[0;32m    460\u001b[0m \u001b[1;33m\u001b[0m\u001b[0m\n\u001b[0;32m    461\u001b[0m     \u001b[1;31m# Create the parser.\u001b[0m\u001b[1;33m\u001b[0m\u001b[1;33m\u001b[0m\u001b[1;33m\u001b[0m\u001b[0m\n\u001b[1;32m--> 462\u001b[1;33m     \u001b[0mparser\u001b[0m \u001b[1;33m=\u001b[0m \u001b[0mTextFileReader\u001b[0m\u001b[1;33m(\u001b[0m\u001b[0mfilepath_or_buffer\u001b[0m\u001b[1;33m,\u001b[0m \u001b[1;33m**\u001b[0m\u001b[0mkwds\u001b[0m\u001b[1;33m)\u001b[0m\u001b[1;33m\u001b[0m\u001b[1;33m\u001b[0m\u001b[0m\n\u001b[0m\u001b[0;32m    463\u001b[0m \u001b[1;33m\u001b[0m\u001b[0m\n\u001b[0;32m    464\u001b[0m     \u001b[1;32mif\u001b[0m \u001b[0mchunksize\u001b[0m \u001b[1;32mor\u001b[0m \u001b[0miterator\u001b[0m\u001b[1;33m:\u001b[0m\u001b[1;33m\u001b[0m\u001b[1;33m\u001b[0m\u001b[0m\n",
      "\u001b[1;32m~\\anaconda3\\lib\\site-packages\\pandas\\io\\parsers.py\u001b[0m in \u001b[0;36m__init__\u001b[1;34m(self, f, engine, **kwds)\u001b[0m\n\u001b[0;32m    817\u001b[0m             \u001b[0mself\u001b[0m\u001b[1;33m.\u001b[0m\u001b[0moptions\u001b[0m\u001b[1;33m[\u001b[0m\u001b[1;34m\"has_index_names\"\u001b[0m\u001b[1;33m]\u001b[0m \u001b[1;33m=\u001b[0m \u001b[0mkwds\u001b[0m\u001b[1;33m[\u001b[0m\u001b[1;34m\"has_index_names\"\u001b[0m\u001b[1;33m]\u001b[0m\u001b[1;33m\u001b[0m\u001b[1;33m\u001b[0m\u001b[0m\n\u001b[0;32m    818\u001b[0m \u001b[1;33m\u001b[0m\u001b[0m\n\u001b[1;32m--> 819\u001b[1;33m         \u001b[0mself\u001b[0m\u001b[1;33m.\u001b[0m\u001b[0m_engine\u001b[0m \u001b[1;33m=\u001b[0m \u001b[0mself\u001b[0m\u001b[1;33m.\u001b[0m\u001b[0m_make_engine\u001b[0m\u001b[1;33m(\u001b[0m\u001b[0mself\u001b[0m\u001b[1;33m.\u001b[0m\u001b[0mengine\u001b[0m\u001b[1;33m)\u001b[0m\u001b[1;33m\u001b[0m\u001b[1;33m\u001b[0m\u001b[0m\n\u001b[0m\u001b[0;32m    820\u001b[0m \u001b[1;33m\u001b[0m\u001b[0m\n\u001b[0;32m    821\u001b[0m     \u001b[1;32mdef\u001b[0m \u001b[0mclose\u001b[0m\u001b[1;33m(\u001b[0m\u001b[0mself\u001b[0m\u001b[1;33m)\u001b[0m\u001b[1;33m:\u001b[0m\u001b[1;33m\u001b[0m\u001b[1;33m\u001b[0m\u001b[0m\n",
      "\u001b[1;32m~\\anaconda3\\lib\\site-packages\\pandas\\io\\parsers.py\u001b[0m in \u001b[0;36m_make_engine\u001b[1;34m(self, engine)\u001b[0m\n\u001b[0;32m   1048\u001b[0m             )\n\u001b[0;32m   1049\u001b[0m         \u001b[1;31m# error: Too many arguments for \"ParserBase\"\u001b[0m\u001b[1;33m\u001b[0m\u001b[1;33m\u001b[0m\u001b[1;33m\u001b[0m\u001b[0m\n\u001b[1;32m-> 1050\u001b[1;33m         \u001b[1;32mreturn\u001b[0m \u001b[0mmapping\u001b[0m\u001b[1;33m[\u001b[0m\u001b[0mengine\u001b[0m\u001b[1;33m]\u001b[0m\u001b[1;33m(\u001b[0m\u001b[0mself\u001b[0m\u001b[1;33m.\u001b[0m\u001b[0mf\u001b[0m\u001b[1;33m,\u001b[0m \u001b[1;33m**\u001b[0m\u001b[0mself\u001b[0m\u001b[1;33m.\u001b[0m\u001b[0moptions\u001b[0m\u001b[1;33m)\u001b[0m  \u001b[1;31m# type: ignore[call-arg]\u001b[0m\u001b[1;33m\u001b[0m\u001b[1;33m\u001b[0m\u001b[0m\n\u001b[0m\u001b[0;32m   1051\u001b[0m \u001b[1;33m\u001b[0m\u001b[0m\n\u001b[0;32m   1052\u001b[0m     \u001b[1;32mdef\u001b[0m \u001b[0m_failover_to_python\u001b[0m\u001b[1;33m(\u001b[0m\u001b[0mself\u001b[0m\u001b[1;33m)\u001b[0m\u001b[1;33m:\u001b[0m\u001b[1;33m\u001b[0m\u001b[1;33m\u001b[0m\u001b[0m\n",
      "\u001b[1;32m~\\anaconda3\\lib\\site-packages\\pandas\\io\\parsers.py\u001b[0m in \u001b[0;36m__init__\u001b[1;34m(self, src, **kwds)\u001b[0m\n\u001b[0;32m   1865\u001b[0m \u001b[1;33m\u001b[0m\u001b[0m\n\u001b[0;32m   1866\u001b[0m         \u001b[1;31m# open handles\u001b[0m\u001b[1;33m\u001b[0m\u001b[1;33m\u001b[0m\u001b[1;33m\u001b[0m\u001b[0m\n\u001b[1;32m-> 1867\u001b[1;33m         \u001b[0mself\u001b[0m\u001b[1;33m.\u001b[0m\u001b[0m_open_handles\u001b[0m\u001b[1;33m(\u001b[0m\u001b[0msrc\u001b[0m\u001b[1;33m,\u001b[0m \u001b[0mkwds\u001b[0m\u001b[1;33m)\u001b[0m\u001b[1;33m\u001b[0m\u001b[1;33m\u001b[0m\u001b[0m\n\u001b[0m\u001b[0;32m   1868\u001b[0m         \u001b[1;32massert\u001b[0m \u001b[0mself\u001b[0m\u001b[1;33m.\u001b[0m\u001b[0mhandles\u001b[0m \u001b[1;32mis\u001b[0m \u001b[1;32mnot\u001b[0m \u001b[1;32mNone\u001b[0m\u001b[1;33m\u001b[0m\u001b[1;33m\u001b[0m\u001b[0m\n\u001b[0;32m   1869\u001b[0m         \u001b[1;32mfor\u001b[0m \u001b[0mkey\u001b[0m \u001b[1;32min\u001b[0m \u001b[1;33m(\u001b[0m\u001b[1;34m\"storage_options\"\u001b[0m\u001b[1;33m,\u001b[0m \u001b[1;34m\"encoding\"\u001b[0m\u001b[1;33m,\u001b[0m \u001b[1;34m\"memory_map\"\u001b[0m\u001b[1;33m,\u001b[0m \u001b[1;34m\"compression\"\u001b[0m\u001b[1;33m)\u001b[0m\u001b[1;33m:\u001b[0m\u001b[1;33m\u001b[0m\u001b[1;33m\u001b[0m\u001b[0m\n",
      "\u001b[1;32m~\\anaconda3\\lib\\site-packages\\pandas\\io\\parsers.py\u001b[0m in \u001b[0;36m_open_handles\u001b[1;34m(self, src, kwds)\u001b[0m\n\u001b[0;32m   1360\u001b[0m         \u001b[0mLet\u001b[0m \u001b[0mthe\u001b[0m \u001b[0mreaders\u001b[0m \u001b[0mopen\u001b[0m \u001b[0mIOHanldes\u001b[0m \u001b[0mafter\u001b[0m \u001b[0mthey\u001b[0m \u001b[0mare\u001b[0m \u001b[0mdone\u001b[0m \u001b[1;32mwith\u001b[0m \u001b[0mtheir\u001b[0m \u001b[0mpotential\u001b[0m \u001b[0mraises\u001b[0m\u001b[1;33m.\u001b[0m\u001b[1;33m\u001b[0m\u001b[1;33m\u001b[0m\u001b[0m\n\u001b[0;32m   1361\u001b[0m         \"\"\"\n\u001b[1;32m-> 1362\u001b[1;33m         self.handles = get_handle(\n\u001b[0m\u001b[0;32m   1363\u001b[0m             \u001b[0msrc\u001b[0m\u001b[1;33m,\u001b[0m\u001b[1;33m\u001b[0m\u001b[1;33m\u001b[0m\u001b[0m\n\u001b[0;32m   1364\u001b[0m             \u001b[1;34m\"r\"\u001b[0m\u001b[1;33m,\u001b[0m\u001b[1;33m\u001b[0m\u001b[1;33m\u001b[0m\u001b[0m\n",
      "\u001b[1;32m~\\anaconda3\\lib\\site-packages\\pandas\\io\\common.py\u001b[0m in \u001b[0;36mget_handle\u001b[1;34m(path_or_buf, mode, encoding, compression, memory_map, is_text, errors, storage_options)\u001b[0m\n\u001b[0;32m    640\u001b[0m                 \u001b[0merrors\u001b[0m \u001b[1;33m=\u001b[0m \u001b[1;34m\"replace\"\u001b[0m\u001b[1;33m\u001b[0m\u001b[1;33m\u001b[0m\u001b[0m\n\u001b[0;32m    641\u001b[0m             \u001b[1;31m# Encoding\u001b[0m\u001b[1;33m\u001b[0m\u001b[1;33m\u001b[0m\u001b[1;33m\u001b[0m\u001b[0m\n\u001b[1;32m--> 642\u001b[1;33m             handle = open(\n\u001b[0m\u001b[0;32m    643\u001b[0m                 \u001b[0mhandle\u001b[0m\u001b[1;33m,\u001b[0m\u001b[1;33m\u001b[0m\u001b[1;33m\u001b[0m\u001b[0m\n\u001b[0;32m    644\u001b[0m                 \u001b[0mioargs\u001b[0m\u001b[1;33m.\u001b[0m\u001b[0mmode\u001b[0m\u001b[1;33m,\u001b[0m\u001b[1;33m\u001b[0m\u001b[1;33m\u001b[0m\u001b[0m\n",
      "\u001b[1;31mFileNotFoundError\u001b[0m: [Errno 2] No such file or directory: 'previous_application.csv'"
     ]
    }
   ],
   "source": [
    "inp1=pd.read_csv(\"previous_application.csv\")"
   ]
  },
  {
   "cell_type": "code",
   "execution_count": null,
   "id": "43011e75",
   "metadata": {},
   "outputs": [],
   "source": [
    "inp1.head()"
   ]
  },
  {
   "cell_type": "code",
   "execution_count": null,
   "id": "24e03da0",
   "metadata": {},
   "outputs": [],
   "source": [
    "inp1.shape"
   ]
  },
  {
   "cell_type": "code",
   "execution_count": null,
   "id": "2a77a80a",
   "metadata": {},
   "outputs": [],
   "source": [
    "inp1.info(verbose=True,null_counts=True)"
   ]
  },
  {
   "cell_type": "code",
   "execution_count": null,
   "id": "f91c6d41",
   "metadata": {},
   "outputs": [],
   "source": [
    "pd.set_option(\"display.max_rows\",None, \"display.max_columns\",None) \n",
    "inp1.isnull().sum()/len(inp1)*100"
   ]
  },
  {
   "cell_type": "code",
   "execution_count": null,
   "id": "ebcacb54",
   "metadata": {},
   "outputs": [],
   "source": [
    "#Deleting columns with missing values > 50%\n",
    "\n",
    "del_col1 = [\"AMT_DOWN_PAYMENT\", \"RATE_INTEREST_PRIMARY\", \"RATE_DOWN_PAYMENT\", \"RATE_INTEREST_PRIVILEGED\"]"
   ]
  },
  {
   "cell_type": "code",
   "execution_count": null,
   "id": "c4af7e04",
   "metadata": {},
   "outputs": [],
   "source": [
    "# Removing columns having null values greater than 50% in the dataset\n",
    "inp1.drop(labels=del_col1,axis=1,inplace=True)"
   ]
  },
  {
   "cell_type": "code",
   "execution_count": null,
   "id": "0b35a79f",
   "metadata": {
    "scrolled": true
   },
   "outputs": [],
   "source": [
    "# Checking the columns having less null percentage\n",
    "inp1.isnull().sum()/len(inp1)*100"
   ]
  },
  {
   "cell_type": "code",
   "execution_count": null,
   "id": "7ed83315",
   "metadata": {},
   "outputs": [],
   "source": [
    "inp1.shape"
   ]
  },
  {
   "cell_type": "markdown",
   "id": "b9395094",
   "metadata": {},
   "source": [
    "# Handling of missing values in previous application data:"
   ]
  },
  {
   "cell_type": "code",
   "execution_count": null,
   "id": "a9d35d03",
   "metadata": {},
   "outputs": [],
   "source": [
    "# Column:AMT_ANNUITY\n",
    "inp1[\"AMT_ANNUITY\"].describe()"
   ]
  },
  {
   "cell_type": "code",
   "execution_count": null,
   "id": "5074dcc6",
   "metadata": {},
   "outputs": [],
   "source": [
    "plt.figure(figsize=(10,2))\n",
    "sns.boxplot(inp1[\"AMT_ANNUITY\"])\n",
    "plt.show()"
   ]
  },
  {
   "cell_type": "code",
   "execution_count": null,
   "id": "0e97822c",
   "metadata": {},
   "outputs": [],
   "source": [
    "# Impute missing values by median as mean would mislead the data.\n",
    "inp1[\"AMT_ANNUITY\"].median(skipna = True)"
   ]
  },
  {
   "cell_type": "code",
   "execution_count": null,
   "id": "79990251",
   "metadata": {},
   "outputs": [],
   "source": [
    "inp1[\"AMT_ANNUITY\"] = inp1[\"AMT_ANNUITY\"].fillna(inp1[\"AMT_ANNUITY\"].median(skipna = True))"
   ]
  },
  {
   "cell_type": "code",
   "execution_count": null,
   "id": "acb425f6",
   "metadata": {},
   "outputs": [],
   "source": [
    "inp1[\"AMT_ANNUITY\"].isnull().sum()"
   ]
  },
  {
   "cell_type": "code",
   "execution_count": null,
   "id": "c405f9a8",
   "metadata": {},
   "outputs": [],
   "source": [
    "# Column:AMT_GOODS_PRICE\n",
    "inp1[\"AMT_GOODS_PRICE\"].describe()"
   ]
  },
  {
   "cell_type": "code",
   "execution_count": null,
   "id": "720bcdae",
   "metadata": {},
   "outputs": [],
   "source": [
    "plt.figure(figsize=(10,2))\n",
    "sns.boxplot(inp1[\"AMT_GOODS_PRICE\"])\n",
    "plt.show()"
   ]
  },
  {
   "cell_type": "code",
   "execution_count": null,
   "id": "329a5c6d",
   "metadata": {},
   "outputs": [],
   "source": [
    "# Impute missing values by median as mean would mislead the data.\n",
    "inp1[\"AMT_GOODS_PRICE\"].median(skipna = True)"
   ]
  },
  {
   "cell_type": "code",
   "execution_count": null,
   "id": "5d29f5c4",
   "metadata": {},
   "outputs": [],
   "source": [
    "inp1[\"AMT_GOODS_PRICE\"] = inp1[\"AMT_GOODS_PRICE\"].fillna(inp1[\"AMT_GOODS_PRICE\"].median(skipna = True))"
   ]
  },
  {
   "cell_type": "code",
   "execution_count": null,
   "id": "9cd043fd",
   "metadata": {},
   "outputs": [],
   "source": [
    "inp1[\"AMT_GOODS_PRICE\"].isnull().sum()"
   ]
  },
  {
   "cell_type": "code",
   "execution_count": null,
   "id": "955c5070",
   "metadata": {},
   "outputs": [],
   "source": [
    "# Column:NAME_TYPE_SUITE\n",
    "inp1[\"NAME_TYPE_SUITE\"].describe()"
   ]
  },
  {
   "cell_type": "code",
   "execution_count": null,
   "id": "8e894c6a",
   "metadata": {},
   "outputs": [],
   "source": [
    "#\"NAME_TYPE_SUITE\" is categorical unordered variable,missing value replace with \"Not available\"\n",
    "inp1[\"NAME_TYPE_SUITE\"].value_counts()"
   ]
  },
  {
   "cell_type": "code",
   "execution_count": null,
   "id": "608bdcd9",
   "metadata": {},
   "outputs": [],
   "source": [
    "inp1[\"NAME_TYPE_SUITE\"] = inp1[\"NAME_TYPE_SUITE\"].fillna(\"Not available\")"
   ]
  },
  {
   "cell_type": "code",
   "execution_count": null,
   "id": "0caf66ba",
   "metadata": {},
   "outputs": [],
   "source": [
    "inp1[\"NAME_TYPE_SUITE\"].value_counts()"
   ]
  },
  {
   "cell_type": "code",
   "execution_count": null,
   "id": "591361c1",
   "metadata": {},
   "outputs": [],
   "source": [
    "# Column:CNT_PAYMENT \n",
    "inp1[\"CNT_PAYMENT\"].describe()"
   ]
  },
  {
   "cell_type": "code",
   "execution_count": null,
   "id": "99e0277d",
   "metadata": {},
   "outputs": [],
   "source": [
    "plt.figure(figsize=(10,2))\n",
    "sns.boxplot(inp1[\"CNT_PAYMENT\"])\n",
    "plt.show()"
   ]
  },
  {
   "cell_type": "code",
   "execution_count": null,
   "id": "10bbe761",
   "metadata": {},
   "outputs": [],
   "source": [
    "# Impute missing values by mean\n",
    "inp1[\"CNT_PAYMENT\"].mean()"
   ]
  },
  {
   "cell_type": "code",
   "execution_count": null,
   "id": "b416f9c9",
   "metadata": {},
   "outputs": [],
   "source": [
    "# Imputing missing values by mean \n",
    "inp1[\"CNT_PAYMENT\"] = inp1[\"CNT_PAYMENT\"].fillna(inp1[\"CNT_PAYMENT\"].mean())"
   ]
  },
  {
   "cell_type": "code",
   "execution_count": null,
   "id": "0bc7f00e",
   "metadata": {},
   "outputs": [],
   "source": [
    "inp1[\"CNT_PAYMENT\"].isnull().sum()"
   ]
  },
  {
   "cell_type": "code",
   "execution_count": null,
   "id": "319d6bc2",
   "metadata": {},
   "outputs": [],
   "source": [
    "# Column: \"PRODUCT_COMBINATION\"is categorical unordered variable,missing value replace with most frequently occuring element.\n",
    "inp1[\"PRODUCT_COMBINATION\"].value_counts()"
   ]
  },
  {
   "cell_type": "code",
   "execution_count": null,
   "id": "fdb64908",
   "metadata": {},
   "outputs": [],
   "source": [
    "inp1[\"PRODUCT_COMBINATION\"] = inp1[\"PRODUCT_COMBINATION\"].fillna(\"Cash\")"
   ]
  },
  {
   "cell_type": "code",
   "execution_count": null,
   "id": "837880d5",
   "metadata": {},
   "outputs": [],
   "source": [
    "inp1[\"PRODUCT_COMBINATION\"].value_counts()"
   ]
  },
  {
   "cell_type": "code",
   "execution_count": null,
   "id": "31aceb4a",
   "metadata": {},
   "outputs": [],
   "source": [
    "#Column: DAYS_FIRST_DRAWING             \n",
    "inp1[\"DAYS_FIRST_DRAWING\"].describe()"
   ]
  },
  {
   "cell_type": "code",
   "execution_count": null,
   "id": "2ff39482",
   "metadata": {},
   "outputs": [],
   "source": [
    "plt.figure(figsize=(10,2))\n",
    "sns.boxplot(inp1[\"CNT_PAYMENT\"])\n",
    "plt.show()"
   ]
  },
  {
   "cell_type": "code",
   "execution_count": null,
   "id": "fe04d4a6",
   "metadata": {},
   "outputs": [],
   "source": [
    "# Impute missing values by median as mean would mislead the data.\n",
    "inp1[\"DAYS_FIRST_DRAWING\"] = inp1[\"DAYS_FIRST_DRAWING\"].fillna(inp1[\"DAYS_FIRST_DRAWING\"].median())"
   ]
  },
  {
   "cell_type": "code",
   "execution_count": null,
   "id": "c17210bf",
   "metadata": {},
   "outputs": [],
   "source": [
    "inp1[\"DAYS_FIRST_DRAWING\"].isnull().sum()"
   ]
  },
  {
   "cell_type": "code",
   "execution_count": null,
   "id": "6bcfb388",
   "metadata": {},
   "outputs": [],
   "source": [
    " #Column: DAYS_FIRST_DUE               \n",
    "inp1[\"DAYS_FIRST_DUE\"].describe()"
   ]
  },
  {
   "cell_type": "code",
   "execution_count": null,
   "id": "fba410a5",
   "metadata": {},
   "outputs": [],
   "source": [
    "plt.figure(figsize=(10,3))\n",
    "sns.boxplot(inp1[\"DAYS_FIRST_DUE\"])\n",
    "plt.show()"
   ]
  },
  {
   "cell_type": "code",
   "execution_count": null,
   "id": "033545e0",
   "metadata": {},
   "outputs": [],
   "source": [
    "plt.hist(inp1[\"DAYS_FIRST_DUE\"])\n",
    "plt.show()"
   ]
  },
  {
   "cell_type": "code",
   "execution_count": null,
   "id": "9c138efa",
   "metadata": {},
   "outputs": [],
   "source": [
    "# from above histogram taken a decision to impute missing values by median as mean would mislead the data.\n",
    "inp1[\"DAYS_FIRST_DUE\"] = inp1[\"DAYS_FIRST_DUE\"].fillna(inp1[\"DAYS_FIRST_DUE\"].median())"
   ]
  },
  {
   "cell_type": "code",
   "execution_count": null,
   "id": "3d15c701",
   "metadata": {},
   "outputs": [],
   "source": [
    "inp1[\"DAYS_FIRST_DUE\"].isnull().sum()"
   ]
  },
  {
   "cell_type": "code",
   "execution_count": null,
   "id": "8489e880",
   "metadata": {},
   "outputs": [],
   "source": [
    " #Column: DAYS_LAST_DUE_1ST_VERSION               \n",
    "inp1[\"DAYS_LAST_DUE_1ST_VERSION\"].describe()"
   ]
  },
  {
   "cell_type": "code",
   "execution_count": null,
   "id": "0bd0bfae",
   "metadata": {},
   "outputs": [],
   "source": [
    "plt.hist(inp1[\"DAYS_LAST_DUE_1ST_VERSION\"])\n",
    "plt.show()"
   ]
  },
  {
   "cell_type": "code",
   "execution_count": null,
   "id": "46601b66",
   "metadata": {},
   "outputs": [],
   "source": [
    "# from above histogram taken a decision to impute missing values by median as mean would mislead the data.\n",
    "inp1[\"DAYS_LAST_DUE_1ST_VERSION\"] = inp1[\"DAYS_LAST_DUE_1ST_VERSION\"].fillna(inp1[\"DAYS_LAST_DUE_1ST_VERSION\"].median())"
   ]
  },
  {
   "cell_type": "code",
   "execution_count": null,
   "id": "750ac760",
   "metadata": {},
   "outputs": [],
   "source": [
    "inp1[\"DAYS_LAST_DUE_1ST_VERSION\"].isnull().sum()"
   ]
  },
  {
   "cell_type": "code",
   "execution_count": null,
   "id": "e7c575f0",
   "metadata": {},
   "outputs": [],
   "source": [
    "#Column:DAYS_LAST_DUE                \n",
    "inp1[\"DAYS_LAST_DUE\"].describe()"
   ]
  },
  {
   "cell_type": "code",
   "execution_count": null,
   "id": "4e218a17",
   "metadata": {},
   "outputs": [],
   "source": [
    "plt.hist(inp1[\"DAYS_LAST_DUE\"])\n",
    "plt.show()"
   ]
  },
  {
   "cell_type": "code",
   "execution_count": null,
   "id": "7e2446bc",
   "metadata": {},
   "outputs": [],
   "source": [
    "# from above histogram taken a decision to impute missing values by median as mean would mislead the data.\n",
    "inp1[\"DAYS_LAST_DUE\"] = inp1[\"DAYS_LAST_DUE\"].fillna(inp1[\"DAYS_LAST_DUE\"].median())"
   ]
  },
  {
   "cell_type": "code",
   "execution_count": null,
   "id": "f3dcbd2b",
   "metadata": {},
   "outputs": [],
   "source": [
    "inp1[\"DAYS_LAST_DUE\"].isnull().sum()"
   ]
  },
  {
   "cell_type": "code",
   "execution_count": null,
   "id": "95ef2d76",
   "metadata": {},
   "outputs": [],
   "source": [
    "#Column:DAYS_TERMINATION               \n",
    "inp1[\"DAYS_TERMINATION\"].describe()"
   ]
  },
  {
   "cell_type": "code",
   "execution_count": null,
   "id": "ea5b2692",
   "metadata": {},
   "outputs": [],
   "source": [
    "plt.hist(inp1[\"DAYS_TERMINATION\"])\n",
    "plt.show()"
   ]
  },
  {
   "cell_type": "code",
   "execution_count": null,
   "id": "dd18c3ce",
   "metadata": {},
   "outputs": [],
   "source": [
    "# from above histogram taken a decision to impute missing values by median as mean would mislead the data.\n",
    "inp1[\"DAYS_TERMINATION\"] = inp1[\"DAYS_TERMINATION\"].fillna(inp1[\"DAYS_TERMINATION\"].median())"
   ]
  },
  {
   "cell_type": "code",
   "execution_count": null,
   "id": "5531b5fc",
   "metadata": {},
   "outputs": [],
   "source": [
    "inp1[\"DAYS_TERMINATION\"].isnull().sum()"
   ]
  },
  {
   "cell_type": "code",
   "execution_count": null,
   "id": "ac3fd059",
   "metadata": {},
   "outputs": [],
   "source": [
    "#Column:NFLAG_INSURED_ON_APPROVAL               \n",
    "inp1[\"NFLAG_INSURED_ON_APPROVAL\"].describe()              "
   ]
  },
  {
   "cell_type": "code",
   "execution_count": null,
   "id": "ba97a677",
   "metadata": {},
   "outputs": [],
   "source": [
    "plt.hist(inp1[\"NFLAG_INSURED_ON_APPROVAL\"])\n",
    "plt.show()"
   ]
  },
  {
   "cell_type": "code",
   "execution_count": null,
   "id": "7f0cacb8",
   "metadata": {},
   "outputs": [],
   "source": [
    "inp1[\"NFLAG_INSURED_ON_APPROVAL\"].median()"
   ]
  },
  {
   "cell_type": "markdown",
   "id": "8776e89a",
   "metadata": {},
   "source": [
    "#### \"NFLAG_INSURED_ON_APPROVAL\" column have data of client requested insurance during the previous application is as 1(yes) or 0(no).Median is 0 and if imputed with 1 can cause misleading analysis.So better to impute 0 instead of 1."
   ]
  },
  {
   "cell_type": "code",
   "execution_count": null,
   "id": "59690d42",
   "metadata": {},
   "outputs": [],
   "source": [
    "inp1[\"NFLAG_INSURED_ON_APPROVAL\"] = inp1[\"NFLAG_INSURED_ON_APPROVAL\"].fillna(inp1[\"NFLAG_INSURED_ON_APPROVAL\"].median())"
   ]
  },
  {
   "cell_type": "code",
   "execution_count": null,
   "id": "319a918e",
   "metadata": {},
   "outputs": [],
   "source": [
    "inp1[\"NFLAG_INSURED_ON_APPROVAL\"].isnull().sum()"
   ]
  },
  {
   "cell_type": "code",
   "execution_count": null,
   "id": "ae0808eb",
   "metadata": {},
   "outputs": [],
   "source": [
    "inp1.isnull().sum()"
   ]
  },
  {
   "cell_type": "code",
   "execution_count": null,
   "id": "d0b4670b",
   "metadata": {},
   "outputs": [],
   "source": [
    "#Column:NFLAG_INSURED_ON_APPROVAL               \n",
    "inp1[\"AMT_CREDIT\"].describe()    "
   ]
  },
  {
   "cell_type": "code",
   "execution_count": null,
   "id": "e7ba7949",
   "metadata": {},
   "outputs": [],
   "source": [
    "plt.hist(inp1[\"AMT_CREDIT\"])\n",
    "plt.show()"
   ]
  },
  {
   "cell_type": "code",
   "execution_count": null,
   "id": "f7dc757f",
   "metadata": {},
   "outputs": [],
   "source": [
    "inp1[\"AMT_CREDIT\"].median()"
   ]
  },
  {
   "cell_type": "code",
   "execution_count": null,
   "id": "754073a7",
   "metadata": {},
   "outputs": [],
   "source": [
    "inp1[\"AMT_CREDIT\"] = inp1[\"AMT_CREDIT\"].fillna(inp1[\"AMT_CREDIT\"].median())"
   ]
  },
  {
   "cell_type": "code",
   "execution_count": null,
   "id": "5b22821a",
   "metadata": {},
   "outputs": [],
   "source": [
    "inp1[\"AMT_CREDIT\"].isnull().sum()"
   ]
  },
  {
   "cell_type": "code",
   "execution_count": null,
   "id": "b68d7c5d",
   "metadata": {},
   "outputs": [],
   "source": [
    "# \"XNA\"and \"XAP\" removing from below column\n",
    "inp1=inp1.drop(inp1[inp1['NAME_CASH_LOAN_PURPOSE']=='XNA'].index)\n",
    "inp1=inp1.drop(inp1[inp1['NAME_CASH_LOAN_PURPOSE']=='XAP'].index)\n",
    "inp1.shape"
   ]
  },
  {
   "cell_type": "markdown",
   "id": "be2d3172",
   "metadata": {},
   "source": [
    "# Data analysis of previous application data:"
   ]
  },
  {
   "cell_type": "code",
   "execution_count": null,
   "id": "63adb748",
   "metadata": {},
   "outputs": [],
   "source": [
    "### Numeric column segregation from data:\n",
    "numeric_col = [c for c in inp1.select_dtypes(include = np.number).columns if c not in ['SK_ID_CURR'] + [ 'SK_ID_PREV']]"
   ]
  },
  {
   "cell_type": "code",
   "execution_count": null,
   "id": "17e161e8",
   "metadata": {},
   "outputs": [],
   "source": [
    "for c in range(len(numeric_col)): \n",
    "    print(numeric_col[c])"
   ]
  },
  {
   "cell_type": "code",
   "execution_count": null,
   "id": "d51c3ab7",
   "metadata": {},
   "outputs": [],
   "source": [
    "pre_numeric_col =pd.DataFrame()\n",
    "\n",
    "for c in numeric_col:\n",
    "    pre_numeric_col[c] = inp1[c]\n",
    "    \n",
    "pre_numeric_col.info()"
   ]
  },
  {
   "cell_type": "code",
   "execution_count": null,
   "id": "04cb15c9",
   "metadata": {},
   "outputs": [],
   "source": [
    "# Correlation between numeric features of previous application data:\n",
    "plt.figure(figsize=(15,10))\n",
    "sns.heatmap(pre_numeric_col.corr(), annot=True)\n",
    "plt.show()"
   ]
  },
  {
   "cell_type": "markdown",
   "id": "de4ddd68",
   "metadata": {},
   "source": [
    "### Inferences:\n",
    "1. 'DAYS_LAST_DUE' and 'DAYS_TERMINATION' are highly correlated\n",
    "2.'AMT_ANNUITY','AMT_APPLICATION','AMT_CREDIT','AMT_GOODS_PRICE' are highly correlated."
   ]
  },
  {
   "cell_type": "markdown",
   "id": "e4be0615",
   "metadata": {},
   "source": [
    "#### 'SK_ID_PREV' column is not required for analysis hence dropping:"
   ]
  },
  {
   "cell_type": "code",
   "execution_count": null,
   "id": "526004ea",
   "metadata": {},
   "outputs": [],
   "source": [
    "inp1.drop(['SK_ID_PREV'], axis=1, inplace=True)"
   ]
  },
  {
   "cell_type": "markdown",
   "id": "9cadd42d",
   "metadata": {},
   "source": [
    "# Merging only selective columns of application data with previous application data:"
   ]
  },
  {
   "cell_type": "code",
   "execution_count": null,
   "id": "1ee328c7",
   "metadata": {},
   "outputs": [],
   "source": [
    "Merged_data = pd.merge(inp0[['SK_ID_CURR', 'TARGET']], inp1, how='left', on=['SK_ID_CURR'])\n",
    "\n",
    "Merged_data.info()"
   ]
  },
  {
   "cell_type": "code",
   "execution_count": null,
   "id": "28912f59",
   "metadata": {},
   "outputs": [],
   "source": [
    "Merged_data.describe()"
   ]
  },
  {
   "cell_type": "markdown",
   "id": "ca1778e7",
   "metadata": {},
   "source": [
    "# Data Imbalance in Previous Application Data:"
   ]
  },
  {
   "cell_type": "code",
   "execution_count": null,
   "id": "c6672cd2",
   "metadata": {},
   "outputs": [],
   "source": [
    "plt.style.use(\"ggplot\")\n",
    "plt.title(\"Previous Loan Application and Payment\")\n",
    "sns.countplot(Merged_data['NAME_CONTRACT_STATUS'], hue=Merged_data['TARGET'])\n",
    "plt.show()"
   ]
  },
  {
   "cell_type": "code",
   "execution_count": null,
   "id": "860e5a25",
   "metadata": {},
   "outputs": [],
   "source": [
    "# % of previously approved loan applicants that defaulted in current loan:\n",
    "\n",
    "approved_total = Merged_data[Merged_data['NAME_CONTRACT_STATUS'] == \"Approved\"].shape[0]\n",
    "default_approved = Merged_data[(Merged_data['TARGET'] == 1) & (Merged_data['NAME_CONTRACT_STATUS'] == \"Approved\")].shape[0]\n",
    "\n",
    "print(\"% of previously approved loan applicants that defaulted in current loan : \", (default_approved*100/approved_total))"
   ]
  },
  {
   "cell_type": "code",
   "execution_count": null,
   "id": "d385e5e1",
   "metadata": {},
   "outputs": [],
   "source": [
    "# % of previously non approved loan applicants that were able to pay current loan:\n",
    "\n",
    "non_approved_total = Merged_data[Merged_data['NAME_CONTRACT_STATUS'] == \"Refused\"].shape[0]\n",
    "nondefault_non_approved = Merged_data[(Merged_data['TARGET'] == 0) & (Merged_data['NAME_CONTRACT_STATUS'] == \"Refused\")].shape[0]\n",
    "\n",
    "print(\"% of previously non approved loan applicants that were able to pay current loan : \", (nondefault_non_approved*100/non_approved_total))"
   ]
  },
  {
   "cell_type": "markdown",
   "id": "16940914",
   "metadata": {},
   "source": [
    "### Inferencs:\n",
    "1.Than the applicants whose previous loans were rejected, the applicants whose previous loans were approved are more in number to pay current loan in time.\n",
    "2.12% of the previously approved loan applicants that defaulted in current loan.\n",
    "3.85% of the previously non approved loan applicants that are able to pay current loan."
   ]
  },
  {
   "cell_type": "code",
   "execution_count": null,
   "id": "280629eb",
   "metadata": {},
   "outputs": [],
   "source": [
    "plt.title(\"Payment Status\")\n",
    "sns.countplot(Merged_data['TARGET'])\n",
    "plt.show()"
   ]
  },
  {
   "cell_type": "markdown",
   "id": "5d15e869",
   "metadata": {},
   "source": [
    "### Inference:\n",
    "Data is highly imbalanced since no. of defaulter is very less in total population"
   ]
  },
  {
   "cell_type": "markdown",
   "id": "d0b9a366",
   "metadata": {},
   "source": [
    "### Univariant,Bivariant and Multivariant analysis:"
   ]
  },
  {
   "cell_type": "code",
   "execution_count": null,
   "id": "c73a6741",
   "metadata": {},
   "outputs": [],
   "source": [
    "sns.countplot(Merged_data.NAME_CONTRACT_TYPE, hue=Merged_data.TARGET)\n",
    "plt.show()"
   ]
  },
  {
   "cell_type": "markdown",
   "id": "4d93fc4f",
   "metadata": {},
   "source": [
    "Inference:\n",
    "Highest number of loans are applied for Cash Loans by Non-Defaulters in previous application."
   ]
  },
  {
   "cell_type": "code",
   "execution_count": null,
   "id": "2e5383e2",
   "metadata": {},
   "outputs": [],
   "source": [
    "sns.countplot(Merged_data['NFLAG_INSURED_ON_APPROVAL'], hue=Merged_data['TARGET'])\n",
    "plt.show()"
   ]
  },
  {
   "cell_type": "markdown",
   "id": "d5011729",
   "metadata": {},
   "source": [
    "### Inference:\n",
    "Majority of the people did't requested insurance during previous loan application."
   ]
  },
  {
   "cell_type": "markdown",
   "id": "def567af",
   "metadata": {},
   "source": [
    "# Concatenating application Data and previous applicationData by inner join:"
   ]
  },
  {
   "cell_type": "code",
   "execution_count": null,
   "id": "a5f2b146",
   "metadata": {},
   "outputs": [],
   "source": [
    "New_data = pd.merge(left=inp0,right=inp1,how='inner',on='SK_ID_CURR',suffixes='_x')"
   ]
  },
  {
   "cell_type": "code",
   "execution_count": null,
   "id": "18f4fd31",
   "metadata": {},
   "outputs": [],
   "source": [
    "New_data.head(10)"
   ]
  },
  {
   "cell_type": "code",
   "execution_count": null,
   "id": "7ab80c06",
   "metadata": {},
   "outputs": [],
   "source": [
    "## Univariant analysis: Distribution of contract status\n",
    "sns.set_style('whitegrid')\n",
    "sns.set_context('talk')\n",
    "plt.figure(figsize=(15,30))\n",
    "plt.rcParams[\"axes.labelsize\"] = 20\n",
    "plt.rcParams['axes.titlesize'] = 22\n",
    "plt.rcParams['axes.titlepad'] = 30\n",
    "plt.xticks(rotation=90)\n",
    "plt.xscale('log')\n",
    "plt.title('Distribution of purposes with target')\n",
    "ax = sns.countplot(data =New_data , y= 'NAME_CASH_LOAN_PURPOSE', \n",
    "                   order=New_data['NAME_CASH_LOAN_PURPOSE'].value_counts().index,hue = 'TARGET',palette=\"tab10\") "
   ]
  },
  {
   "cell_type": "markdown",
   "id": "cae27408",
   "metadata": {},
   "source": [
    "### Inferences:\n",
    "1.Loan purposes with 'Repairs' are facing more difficulites in payment on time.\n",
    "2.There are few places where loan payment is significant higher than facing difficulties.\n",
    "3.Clients are taking loan for 'Buying a garage', 'Business developemt', 'Buying land','Buying a new car' and 'Education'\n",
    "Hence we can focus on these purposes for which the client is having for minimal payment difficulties."
   ]
  },
  {
   "cell_type": "markdown",
   "id": "a6ffca7e",
   "metadata": {},
   "source": [
    "Bivariant Analysis:"
   ]
  },
  {
   "cell_type": "code",
   "execution_count": null,
   "id": "19bcefab",
   "metadata": {},
   "outputs": [],
   "source": [
    "## Box plotting for Credit amount in previous application vs Housing type in log scale:\n",
    "\n",
    "plt.figure(figsize=(14,10))\n",
    "plt.xticks(rotation=90)\n",
    "sns.barplot(data =New_data, y='AMT_CREDITx',hue='TARGET',x='NAME_HOUSING_TYPE')\n",
    "plt.title('Prev Credit amount vs Housing type')\n",
    "plt.show()"
   ]
  },
  {
   "cell_type": "markdown",
   "id": "b4e48bb3",
   "metadata": {},
   "source": [
    "### Inferences:\n",
    "1.Here for co-op apartment is having higher credit of target 1 and Housing type, office apartment is having higher credit of target 0. So, we can conclude that bank should takecare or think before making decisionof giving loans to the housing type of co-op apartment as they are having difficulties in payment.\n",
    "2.Bank should focus more on housing type with parents or House\\apartment or miuncipal apartment for no payment difficulties by client."
   ]
  },
  {
   "cell_type": "code",
   "execution_count": null,
   "id": "afc4bbcb",
   "metadata": {},
   "outputs": [],
   "source": [
    "defaulter_data=New_data[New_data['TARGET'] == 1]\n",
    "repayer_data=New_data[New_data['TARGET'] == 0]"
   ]
  },
  {
   "cell_type": "code",
   "execution_count": null,
   "id": "0995002d",
   "metadata": {},
   "outputs": [],
   "source": [
    "repayer_data.corr().unstack().sort_values(ascending = False).drop_duplicates()"
   ]
  },
  {
   "cell_type": "markdown",
   "id": "e6ea5343",
   "metadata": {},
   "source": []
  },
  {
   "cell_type": "markdown",
   "id": "af6aa57c",
   "metadata": {},
   "source": [
    "# From the above data the top10 correlated columns are as follow(Repayer/Target=0):\n",
    "OBS_60_CNT_SOCIAL_CIRCLE OBS_30_CNT_SOCIAL_CIRCLE 0.99\n",
    "AMT_CREDITx  AMT_GOODS_PRICEx 0.99\n",
    "DAYS_TERMINATION DAYS_LAST_DUE 0.98\n",
    "CNT_CHILDREN  CNT_FAM_MEMBERS 0.89\n",
    "LIVE_REGION_NOT_WORK_REGION  REG_REGION_NOT_WORK_REGION  0.86\n",
    "DEF_30_CNT_SOCIAL_CIRCLE DEF_60_CNT_SOCIAL_CIRCLE  0.85\n",
    "REG_CITY_NOT_WORK_CITY LIVE_CITY_NOT_WORK_CITY 0.82\n",
    "AMT_GOODS_PRICEx  AMT_ANNUITYx 0.78\n",
    "AMT_ANNUITY_  AMT_GOODS_PRICE_  0.73\n",
    "CNT_PAYMENT  AMT_CREDITx  0.67"
   ]
  },
  {
   "cell_type": "code",
   "execution_count": null,
   "id": "41a0f546",
   "metadata": {},
   "outputs": [],
   "source": [
    "top10_corre=repayer_data[[\"OBS_60_CNT_SOCIAL_CIRCLE\",\"OBS_30_CNT_SOCIAL_CIRCLE\",\"AMT_CREDITx\",\"AMT_GOODS_PRICEx\",\"DAYS_TERMINATION\",\"DAYS_LAST_DUE\",\"CNT_CHILDREN\",\"CNT_FAM_MEMBERS\",\"LIVE_REGION_NOT_WORK_REGION\",\"REG_REGION_NOT_WORK_REGION\",\"DEF_30_CNT_SOCIAL_CIRCLE\",\"DEF_60_CNT_SOCIAL_CIRCLE\",\"REG_CITY_NOT_WORK_CITY\",\"LIVE_CITY_NOT_WORK_CITY\",\"AMT_ANNUITYx\",\"AMT_ANNUITY_\",\"AMT_GOODS_PRICE_\",\"CNT_PAYMENT\"]].copy()"
   ]
  },
  {
   "cell_type": "code",
   "execution_count": null,
   "id": "fbdc7eda",
   "metadata": {},
   "outputs": [],
   "source": [
    "top10_corre.shape"
   ]
  },
  {
   "cell_type": "code",
   "execution_count": null,
   "id": "e666bcc8",
   "metadata": {},
   "outputs": [],
   "source": [
    "corr_repayer= top10_corre.corr()\n",
    "plt.figure(figsize = [23, 23])\n",
    "sns.heatmap(data = corr_repayer, cmap=\"BuPu\", annot=True)\n",
    "plt.show()"
   ]
  },
  {
   "cell_type": "markdown",
   "id": "9ea35c28",
   "metadata": {},
   "source": [
    "### Inferences:\n",
    "1.Higher the goods price,the credit by the client also will be high.\n",
    "2.If the client's contact address does not match the address where he works , then there is more chances that the client's permanent address also does not match the address where he works\n",
    "3.Clients childerd and clients family members are highly correlated which means a client with children have high chances to have family members as well."
   ]
  },
  {
   "cell_type": "code",
   "execution_count": null,
   "id": "fafa2748",
   "metadata": {},
   "outputs": [],
   "source": [
    "defaulter_data.corr().unstack().sort_values(ascending = False).drop_duplicates()"
   ]
  },
  {
   "cell_type": "markdown",
   "id": "076c63ad",
   "metadata": {},
   "source": [
    "# From the above data the top10 correlated columns are as follow(Defaulters/Target=1):\n",
    "OBS_60_CNT_SOCIAL_CIRCLE OBS_30_CNT_SOCIAL_CIRCLE 1.00\n",
    "AMT_CREDITx  AMT_GOODS_PRICEx 0.99\n",
    "AMT_APPLICATION AMT_CREDITx  0.99\n",
    "DAYS_TERMINATION DAYS_LAST_DUE 0.99\n",
    "CNT_CHILDREN  CNT_FAM_MEMBERS 0.89\n",
    "LIVE_REGION_NOT_WORK_REGION  REG_REGION_NOT_WORK_REGION  0.88\n",
    "DEF_30_CNT_SOCIAL_CIRCLE DEF_60_CNT_SOCIAL_CIRCLE  0.85\n",
    "AMT_GOODS_PRICEx  AMT_ANNUITYx 0.80\n",
    "AMT_CREDITx AMT_ANNUITYx   0.79\n",
    "REG_CITY_NOT_WORK_CITY LIVE_CITY_NOT_WORK_CITY 0.78"
   ]
  },
  {
   "cell_type": "code",
   "execution_count": null,
   "id": "44350ca5",
   "metadata": {},
   "outputs": [],
   "source": [
    "top10_corre1=defaulter_data[[\"OBS_60_CNT_SOCIAL_CIRCLE\",\"OBS_30_CNT_SOCIAL_CIRCLE\",\"AMT_CREDITx\",\"AMT_GOODS_PRICEx\",\"AMT_APPLICATION\",\"DAYS_TERMINATION\",\"DAYS_LAST_DUE\",\"CNT_CHILDREN\",\"CNT_FAM_MEMBERS\",\"LIVE_REGION_NOT_WORK_REGION\",\"REG_REGION_NOT_WORK_REGION\",\"DEF_30_CNT_SOCIAL_CIRCLE\",\"DEF_60_CNT_SOCIAL_CIRCLE\",\"REG_CITY_NOT_WORK_CITY\",\"LIVE_CITY_NOT_WORK_CITY\",\"AMT_ANNUITYx\"]].copy()"
   ]
  },
  {
   "cell_type": "code",
   "execution_count": null,
   "id": "ba35e3d9",
   "metadata": {},
   "outputs": [],
   "source": [
    "top10_corre1.shape"
   ]
  },
  {
   "cell_type": "code",
   "execution_count": null,
   "id": "cf2e0819",
   "metadata": {},
   "outputs": [],
   "source": [
    "corr_defaulter= top10_corre1.corr()\n",
    "plt.figure(figsize = [23, 23])\n",
    "sns.heatmap(data = corr_defaulter, cmap=\"BuPu\", annot=True)\n",
    "plt.show()"
   ]
  },
  {
   "cell_type": "markdown",
   "id": "76e70734",
   "metadata": {},
   "source": [
    "### Inferences:\n",
    "1. AMT_GOODS_PRICE and AMT_APPLICATION have a high correlation here as well, it means that more credit the client asked for previously is proportional to the goods price that the client asked for previously.\n",
    "2.Higher the goods price,the credit by the client also will be high.\n",
    "3.AMT_ANNUITY and AMT_APPLICATION have a high correlation, which means the higher the loan annuity issued, the higher the goods price that the client asked for previously.\n",
    "4. If the client's contact address does not match the work address, then there's a high chance that the client's permanent address also does not match the work address.\n",
    "5.Clients childerd and clients family members are highly correlated which means a client with children have high chances to have family members as well."
   ]
  }
 ],
 "metadata": {
  "kernelspec": {
   "display_name": "Python 3",
   "language": "python",
   "name": "python3"
  },
  "language_info": {
   "codemirror_mode": {
    "name": "ipython",
    "version": 3
   },
   "file_extension": ".py",
   "mimetype": "text/x-python",
   "name": "python",
   "nbconvert_exporter": "python",
   "pygments_lexer": "ipython3",
   "version": "3.8.8"
  }
 },
 "nbformat": 4,
 "nbformat_minor": 5
}
